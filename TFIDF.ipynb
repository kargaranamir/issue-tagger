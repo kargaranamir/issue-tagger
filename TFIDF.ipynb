{
  "nbformat": 4,
  "nbformat_minor": 0,
  "metadata": {
    "colab": {
      "name": "TFIDF.ipynb",
      "provenance": [],
      "collapsed_sections": [],
      "toc_visible": true,
      "authorship_tag": "ABX9TyNBh7owy3o8pM0woJrLnTHT",
      "include_colab_link": true
    },
    "kernelspec": {
      "name": "python3",
      "display_name": "Python 3"
    },
    "language_info": {
      "name": "python"
    },
    "widgets": {
      "application/vnd.jupyter.widget-state+json": {
        "c1ab01bfe36d43f9b215f9c4394bf351": {
          "model_module": "@jupyter-widgets/controls",
          "model_name": "HBoxModel",
          "model_module_version": "1.5.0",
          "state": {
            "_view_name": "HBoxView",
            "_dom_classes": [],
            "_model_name": "HBoxModel",
            "_view_module": "@jupyter-widgets/controls",
            "_model_module_version": "1.5.0",
            "_view_count": null,
            "_view_module_version": "1.5.0",
            "box_style": "",
            "layout": "IPY_MODEL_bb7c20ea658942bf98df61a07f93f2d8",
            "_model_module": "@jupyter-widgets/controls",
            "children": [
              "IPY_MODEL_b32af45c2a00420786b9069873af5a1d",
              "IPY_MODEL_5c8542a6a0cd49efac8a90aaa66a9e65",
              "IPY_MODEL_83c327a7adea4708af9646e0801c7917"
            ]
          }
        },
        "bb7c20ea658942bf98df61a07f93f2d8": {
          "model_module": "@jupyter-widgets/base",
          "model_name": "LayoutModel",
          "model_module_version": "1.2.0",
          "state": {
            "_view_name": "LayoutView",
            "grid_template_rows": null,
            "right": null,
            "justify_content": null,
            "_view_module": "@jupyter-widgets/base",
            "overflow": null,
            "_model_module_version": "1.2.0",
            "_view_count": null,
            "flex_flow": null,
            "width": null,
            "min_width": null,
            "border": null,
            "align_items": null,
            "bottom": null,
            "_model_module": "@jupyter-widgets/base",
            "top": null,
            "grid_column": null,
            "overflow_y": null,
            "overflow_x": null,
            "grid_auto_flow": null,
            "grid_area": null,
            "grid_template_columns": null,
            "flex": null,
            "_model_name": "LayoutModel",
            "justify_items": null,
            "grid_row": null,
            "max_height": null,
            "align_content": null,
            "visibility": null,
            "align_self": null,
            "height": null,
            "min_height": null,
            "padding": null,
            "grid_auto_rows": null,
            "grid_gap": null,
            "max_width": null,
            "order": null,
            "_view_module_version": "1.2.0",
            "grid_template_areas": null,
            "object_position": null,
            "object_fit": null,
            "grid_auto_columns": null,
            "margin": null,
            "display": null,
            "left": null
          }
        },
        "b32af45c2a00420786b9069873af5a1d": {
          "model_module": "@jupyter-widgets/controls",
          "model_name": "HTMLModel",
          "model_module_version": "1.5.0",
          "state": {
            "_view_name": "HTMLView",
            "style": "IPY_MODEL_88041960e4c14293a3048bec38d02d34",
            "_dom_classes": [],
            "description": "",
            "_model_name": "HTMLModel",
            "placeholder": "​",
            "_view_module": "@jupyter-widgets/controls",
            "_model_module_version": "1.5.0",
            "value": "100%",
            "_view_count": null,
            "_view_module_version": "1.5.0",
            "description_tooltip": null,
            "_model_module": "@jupyter-widgets/controls",
            "layout": "IPY_MODEL_f4e73359716944aea52ad96c3cde537f"
          }
        },
        "5c8542a6a0cd49efac8a90aaa66a9e65": {
          "model_module": "@jupyter-widgets/controls",
          "model_name": "FloatProgressModel",
          "model_module_version": "1.5.0",
          "state": {
            "_view_name": "ProgressView",
            "style": "IPY_MODEL_cc64e51c1c2d4af58a3838bbc4fc9410",
            "_dom_classes": [],
            "description": "",
            "_model_name": "FloatProgressModel",
            "bar_style": "success",
            "max": 450000,
            "_view_module": "@jupyter-widgets/controls",
            "_model_module_version": "1.5.0",
            "value": 450000,
            "_view_count": null,
            "_view_module_version": "1.5.0",
            "orientation": "horizontal",
            "min": 0,
            "description_tooltip": null,
            "_model_module": "@jupyter-widgets/controls",
            "layout": "IPY_MODEL_ef5b13941a6048398d60988964ffb8f4"
          }
        },
        "83c327a7adea4708af9646e0801c7917": {
          "model_module": "@jupyter-widgets/controls",
          "model_name": "HTMLModel",
          "model_module_version": "1.5.0",
          "state": {
            "_view_name": "HTMLView",
            "style": "IPY_MODEL_0097834c16f043c3a68e3b2980ad6734",
            "_dom_classes": [],
            "description": "",
            "_model_name": "HTMLModel",
            "placeholder": "​",
            "_view_module": "@jupyter-widgets/controls",
            "_model_module_version": "1.5.0",
            "value": " 450000/450000 [48:54&lt;00:00, 163.25it/s]",
            "_view_count": null,
            "_view_module_version": "1.5.0",
            "description_tooltip": null,
            "_model_module": "@jupyter-widgets/controls",
            "layout": "IPY_MODEL_e41bfaeb120b4af1a58b39ed4c0e4781"
          }
        },
        "88041960e4c14293a3048bec38d02d34": {
          "model_module": "@jupyter-widgets/controls",
          "model_name": "DescriptionStyleModel",
          "model_module_version": "1.5.0",
          "state": {
            "_view_name": "StyleView",
            "_model_name": "DescriptionStyleModel",
            "description_width": "",
            "_view_module": "@jupyter-widgets/base",
            "_model_module_version": "1.5.0",
            "_view_count": null,
            "_view_module_version": "1.2.0",
            "_model_module": "@jupyter-widgets/controls"
          }
        },
        "f4e73359716944aea52ad96c3cde537f": {
          "model_module": "@jupyter-widgets/base",
          "model_name": "LayoutModel",
          "model_module_version": "1.2.0",
          "state": {
            "_view_name": "LayoutView",
            "grid_template_rows": null,
            "right": null,
            "justify_content": null,
            "_view_module": "@jupyter-widgets/base",
            "overflow": null,
            "_model_module_version": "1.2.0",
            "_view_count": null,
            "flex_flow": null,
            "width": null,
            "min_width": null,
            "border": null,
            "align_items": null,
            "bottom": null,
            "_model_module": "@jupyter-widgets/base",
            "top": null,
            "grid_column": null,
            "overflow_y": null,
            "overflow_x": null,
            "grid_auto_flow": null,
            "grid_area": null,
            "grid_template_columns": null,
            "flex": null,
            "_model_name": "LayoutModel",
            "justify_items": null,
            "grid_row": null,
            "max_height": null,
            "align_content": null,
            "visibility": null,
            "align_self": null,
            "height": null,
            "min_height": null,
            "padding": null,
            "grid_auto_rows": null,
            "grid_gap": null,
            "max_width": null,
            "order": null,
            "_view_module_version": "1.2.0",
            "grid_template_areas": null,
            "object_position": null,
            "object_fit": null,
            "grid_auto_columns": null,
            "margin": null,
            "display": null,
            "left": null
          }
        },
        "cc64e51c1c2d4af58a3838bbc4fc9410": {
          "model_module": "@jupyter-widgets/controls",
          "model_name": "ProgressStyleModel",
          "model_module_version": "1.5.0",
          "state": {
            "_view_name": "StyleView",
            "_model_name": "ProgressStyleModel",
            "description_width": "",
            "_view_module": "@jupyter-widgets/base",
            "_model_module_version": "1.5.0",
            "_view_count": null,
            "_view_module_version": "1.2.0",
            "bar_color": null,
            "_model_module": "@jupyter-widgets/controls"
          }
        },
        "ef5b13941a6048398d60988964ffb8f4": {
          "model_module": "@jupyter-widgets/base",
          "model_name": "LayoutModel",
          "model_module_version": "1.2.0",
          "state": {
            "_view_name": "LayoutView",
            "grid_template_rows": null,
            "right": null,
            "justify_content": null,
            "_view_module": "@jupyter-widgets/base",
            "overflow": null,
            "_model_module_version": "1.2.0",
            "_view_count": null,
            "flex_flow": null,
            "width": null,
            "min_width": null,
            "border": null,
            "align_items": null,
            "bottom": null,
            "_model_module": "@jupyter-widgets/base",
            "top": null,
            "grid_column": null,
            "overflow_y": null,
            "overflow_x": null,
            "grid_auto_flow": null,
            "grid_area": null,
            "grid_template_columns": null,
            "flex": null,
            "_model_name": "LayoutModel",
            "justify_items": null,
            "grid_row": null,
            "max_height": null,
            "align_content": null,
            "visibility": null,
            "align_self": null,
            "height": null,
            "min_height": null,
            "padding": null,
            "grid_auto_rows": null,
            "grid_gap": null,
            "max_width": null,
            "order": null,
            "_view_module_version": "1.2.0",
            "grid_template_areas": null,
            "object_position": null,
            "object_fit": null,
            "grid_auto_columns": null,
            "margin": null,
            "display": null,
            "left": null
          }
        },
        "0097834c16f043c3a68e3b2980ad6734": {
          "model_module": "@jupyter-widgets/controls",
          "model_name": "DescriptionStyleModel",
          "model_module_version": "1.5.0",
          "state": {
            "_view_name": "StyleView",
            "_model_name": "DescriptionStyleModel",
            "description_width": "",
            "_view_module": "@jupyter-widgets/base",
            "_model_module_version": "1.5.0",
            "_view_count": null,
            "_view_module_version": "1.2.0",
            "_model_module": "@jupyter-widgets/controls"
          }
        },
        "e41bfaeb120b4af1a58b39ed4c0e4781": {
          "model_module": "@jupyter-widgets/base",
          "model_name": "LayoutModel",
          "model_module_version": "1.2.0",
          "state": {
            "_view_name": "LayoutView",
            "grid_template_rows": null,
            "right": null,
            "justify_content": null,
            "_view_module": "@jupyter-widgets/base",
            "overflow": null,
            "_model_module_version": "1.2.0",
            "_view_count": null,
            "flex_flow": null,
            "width": null,
            "min_width": null,
            "border": null,
            "align_items": null,
            "bottom": null,
            "_model_module": "@jupyter-widgets/base",
            "top": null,
            "grid_column": null,
            "overflow_y": null,
            "overflow_x": null,
            "grid_auto_flow": null,
            "grid_area": null,
            "grid_template_columns": null,
            "flex": null,
            "_model_name": "LayoutModel",
            "justify_items": null,
            "grid_row": null,
            "max_height": null,
            "align_content": null,
            "visibility": null,
            "align_self": null,
            "height": null,
            "min_height": null,
            "padding": null,
            "grid_auto_rows": null,
            "grid_gap": null,
            "max_width": null,
            "order": null,
            "_view_module_version": "1.2.0",
            "grid_template_areas": null,
            "object_position": null,
            "object_fit": null,
            "grid_auto_columns": null,
            "margin": null,
            "display": null,
            "left": null
          }
        },
        "4367723a58924995b318e032e98068f6": {
          "model_module": "@jupyter-widgets/controls",
          "model_name": "HBoxModel",
          "model_module_version": "1.5.0",
          "state": {
            "_view_name": "HBoxView",
            "_dom_classes": [],
            "_model_name": "HBoxModel",
            "_view_module": "@jupyter-widgets/controls",
            "_model_module_version": "1.5.0",
            "_view_count": null,
            "_view_module_version": "1.5.0",
            "box_style": "",
            "layout": "IPY_MODEL_4ec2184123994fda861b435fe5af8846",
            "_model_module": "@jupyter-widgets/controls",
            "children": [
              "IPY_MODEL_bd211bcd6a2b4fdf8a282fab2bcb1cfe",
              "IPY_MODEL_be98b21c1f124385bb841138088014ff",
              "IPY_MODEL_6fef74c093ba4b46aeedec663e0c43c6"
            ]
          }
        },
        "4ec2184123994fda861b435fe5af8846": {
          "model_module": "@jupyter-widgets/base",
          "model_name": "LayoutModel",
          "model_module_version": "1.2.0",
          "state": {
            "_view_name": "LayoutView",
            "grid_template_rows": null,
            "right": null,
            "justify_content": null,
            "_view_module": "@jupyter-widgets/base",
            "overflow": null,
            "_model_module_version": "1.2.0",
            "_view_count": null,
            "flex_flow": null,
            "width": null,
            "min_width": null,
            "border": null,
            "align_items": null,
            "bottom": null,
            "_model_module": "@jupyter-widgets/base",
            "top": null,
            "grid_column": null,
            "overflow_y": null,
            "overflow_x": null,
            "grid_auto_flow": null,
            "grid_area": null,
            "grid_template_columns": null,
            "flex": null,
            "_model_name": "LayoutModel",
            "justify_items": null,
            "grid_row": null,
            "max_height": null,
            "align_content": null,
            "visibility": null,
            "align_self": null,
            "height": null,
            "min_height": null,
            "padding": null,
            "grid_auto_rows": null,
            "grid_gap": null,
            "max_width": null,
            "order": null,
            "_view_module_version": "1.2.0",
            "grid_template_areas": null,
            "object_position": null,
            "object_fit": null,
            "grid_auto_columns": null,
            "margin": null,
            "display": null,
            "left": null
          }
        },
        "bd211bcd6a2b4fdf8a282fab2bcb1cfe": {
          "model_module": "@jupyter-widgets/controls",
          "model_name": "HTMLModel",
          "model_module_version": "1.5.0",
          "state": {
            "_view_name": "HTMLView",
            "style": "IPY_MODEL_5f5e21f56c2d42c1a894b2f4c00c0cd4",
            "_dom_classes": [],
            "description": "",
            "_model_name": "HTMLModel",
            "placeholder": "​",
            "_view_module": "@jupyter-widgets/controls",
            "_model_module_version": "1.5.0",
            "value": "100%",
            "_view_count": null,
            "_view_module_version": "1.5.0",
            "description_tooltip": null,
            "_model_module": "@jupyter-widgets/controls",
            "layout": "IPY_MODEL_a366f5e8f7ac4213a0afeb0b62dd720a"
          }
        },
        "be98b21c1f124385bb841138088014ff": {
          "model_module": "@jupyter-widgets/controls",
          "model_name": "FloatProgressModel",
          "model_module_version": "1.5.0",
          "state": {
            "_view_name": "ProgressView",
            "style": "IPY_MODEL_83f873d234504324bec689cc0841cff7",
            "_dom_classes": [],
            "description": "",
            "_model_name": "FloatProgressModel",
            "bar_style": "success",
            "max": 450000,
            "_view_module": "@jupyter-widgets/controls",
            "_model_module_version": "1.5.0",
            "value": 450000,
            "_view_count": null,
            "_view_module_version": "1.5.0",
            "orientation": "horizontal",
            "min": 0,
            "description_tooltip": null,
            "_model_module": "@jupyter-widgets/controls",
            "layout": "IPY_MODEL_3b73628644504cebad53381135899722"
          }
        },
        "6fef74c093ba4b46aeedec663e0c43c6": {
          "model_module": "@jupyter-widgets/controls",
          "model_name": "HTMLModel",
          "model_module_version": "1.5.0",
          "state": {
            "_view_name": "HTMLView",
            "style": "IPY_MODEL_0abfc7d1489e462184a14f458c332da1",
            "_dom_classes": [],
            "description": "",
            "_model_name": "HTMLModel",
            "placeholder": "​",
            "_view_module": "@jupyter-widgets/controls",
            "_model_module_version": "1.5.0",
            "value": " 450000/450000 [03:16&lt;00:00, 2344.04it/s]",
            "_view_count": null,
            "_view_module_version": "1.5.0",
            "description_tooltip": null,
            "_model_module": "@jupyter-widgets/controls",
            "layout": "IPY_MODEL_a44fb40af58e4ba98cb779023e539dd8"
          }
        },
        "5f5e21f56c2d42c1a894b2f4c00c0cd4": {
          "model_module": "@jupyter-widgets/controls",
          "model_name": "DescriptionStyleModel",
          "model_module_version": "1.5.0",
          "state": {
            "_view_name": "StyleView",
            "_model_name": "DescriptionStyleModel",
            "description_width": "",
            "_view_module": "@jupyter-widgets/base",
            "_model_module_version": "1.5.0",
            "_view_count": null,
            "_view_module_version": "1.2.0",
            "_model_module": "@jupyter-widgets/controls"
          }
        },
        "a366f5e8f7ac4213a0afeb0b62dd720a": {
          "model_module": "@jupyter-widgets/base",
          "model_name": "LayoutModel",
          "model_module_version": "1.2.0",
          "state": {
            "_view_name": "LayoutView",
            "grid_template_rows": null,
            "right": null,
            "justify_content": null,
            "_view_module": "@jupyter-widgets/base",
            "overflow": null,
            "_model_module_version": "1.2.0",
            "_view_count": null,
            "flex_flow": null,
            "width": null,
            "min_width": null,
            "border": null,
            "align_items": null,
            "bottom": null,
            "_model_module": "@jupyter-widgets/base",
            "top": null,
            "grid_column": null,
            "overflow_y": null,
            "overflow_x": null,
            "grid_auto_flow": null,
            "grid_area": null,
            "grid_template_columns": null,
            "flex": null,
            "_model_name": "LayoutModel",
            "justify_items": null,
            "grid_row": null,
            "max_height": null,
            "align_content": null,
            "visibility": null,
            "align_self": null,
            "height": null,
            "min_height": null,
            "padding": null,
            "grid_auto_rows": null,
            "grid_gap": null,
            "max_width": null,
            "order": null,
            "_view_module_version": "1.2.0",
            "grid_template_areas": null,
            "object_position": null,
            "object_fit": null,
            "grid_auto_columns": null,
            "margin": null,
            "display": null,
            "left": null
          }
        },
        "83f873d234504324bec689cc0841cff7": {
          "model_module": "@jupyter-widgets/controls",
          "model_name": "ProgressStyleModel",
          "model_module_version": "1.5.0",
          "state": {
            "_view_name": "StyleView",
            "_model_name": "ProgressStyleModel",
            "description_width": "",
            "_view_module": "@jupyter-widgets/base",
            "_model_module_version": "1.5.0",
            "_view_count": null,
            "_view_module_version": "1.2.0",
            "bar_color": null,
            "_model_module": "@jupyter-widgets/controls"
          }
        },
        "3b73628644504cebad53381135899722": {
          "model_module": "@jupyter-widgets/base",
          "model_name": "LayoutModel",
          "model_module_version": "1.2.0",
          "state": {
            "_view_name": "LayoutView",
            "grid_template_rows": null,
            "right": null,
            "justify_content": null,
            "_view_module": "@jupyter-widgets/base",
            "overflow": null,
            "_model_module_version": "1.2.0",
            "_view_count": null,
            "flex_flow": null,
            "width": null,
            "min_width": null,
            "border": null,
            "align_items": null,
            "bottom": null,
            "_model_module": "@jupyter-widgets/base",
            "top": null,
            "grid_column": null,
            "overflow_y": null,
            "overflow_x": null,
            "grid_auto_flow": null,
            "grid_area": null,
            "grid_template_columns": null,
            "flex": null,
            "_model_name": "LayoutModel",
            "justify_items": null,
            "grid_row": null,
            "max_height": null,
            "align_content": null,
            "visibility": null,
            "align_self": null,
            "height": null,
            "min_height": null,
            "padding": null,
            "grid_auto_rows": null,
            "grid_gap": null,
            "max_width": null,
            "order": null,
            "_view_module_version": "1.2.0",
            "grid_template_areas": null,
            "object_position": null,
            "object_fit": null,
            "grid_auto_columns": null,
            "margin": null,
            "display": null,
            "left": null
          }
        },
        "0abfc7d1489e462184a14f458c332da1": {
          "model_module": "@jupyter-widgets/controls",
          "model_name": "DescriptionStyleModel",
          "model_module_version": "1.5.0",
          "state": {
            "_view_name": "StyleView",
            "_model_name": "DescriptionStyleModel",
            "description_width": "",
            "_view_module": "@jupyter-widgets/base",
            "_model_module_version": "1.5.0",
            "_view_count": null,
            "_view_module_version": "1.2.0",
            "_model_module": "@jupyter-widgets/controls"
          }
        },
        "a44fb40af58e4ba98cb779023e539dd8": {
          "model_module": "@jupyter-widgets/base",
          "model_name": "LayoutModel",
          "model_module_version": "1.2.0",
          "state": {
            "_view_name": "LayoutView",
            "grid_template_rows": null,
            "right": null,
            "justify_content": null,
            "_view_module": "@jupyter-widgets/base",
            "overflow": null,
            "_model_module_version": "1.2.0",
            "_view_count": null,
            "flex_flow": null,
            "width": null,
            "min_width": null,
            "border": null,
            "align_items": null,
            "bottom": null,
            "_model_module": "@jupyter-widgets/base",
            "top": null,
            "grid_column": null,
            "overflow_y": null,
            "overflow_x": null,
            "grid_auto_flow": null,
            "grid_area": null,
            "grid_template_columns": null,
            "flex": null,
            "_model_name": "LayoutModel",
            "justify_items": null,
            "grid_row": null,
            "max_height": null,
            "align_content": null,
            "visibility": null,
            "align_self": null,
            "height": null,
            "min_height": null,
            "padding": null,
            "grid_auto_rows": null,
            "grid_gap": null,
            "max_width": null,
            "order": null,
            "_view_module_version": "1.2.0",
            "grid_template_areas": null,
            "object_position": null,
            "object_fit": null,
            "grid_auto_columns": null,
            "margin": null,
            "display": null,
            "left": null
          }
        },
        "339b31cbe7694ea8b4d5319b5146a446": {
          "model_module": "@jupyter-widgets/controls",
          "model_name": "HBoxModel",
          "model_module_version": "1.5.0",
          "state": {
            "_view_name": "HBoxView",
            "_dom_classes": [],
            "_model_name": "HBoxModel",
            "_view_module": "@jupyter-widgets/controls",
            "_model_module_version": "1.5.0",
            "_view_count": null,
            "_view_module_version": "1.5.0",
            "box_style": "",
            "layout": "IPY_MODEL_c743b64f99134d49b6eb9833dbc29b59",
            "_model_module": "@jupyter-widgets/controls",
            "children": [
              "IPY_MODEL_09699487da934314a6c5fada20e4697e",
              "IPY_MODEL_0502db846d1249cc82c61b7248414596",
              "IPY_MODEL_de0986fe0ff944d38a2289b8f42bd149"
            ]
          }
        },
        "c743b64f99134d49b6eb9833dbc29b59": {
          "model_module": "@jupyter-widgets/base",
          "model_name": "LayoutModel",
          "model_module_version": "1.2.0",
          "state": {
            "_view_name": "LayoutView",
            "grid_template_rows": null,
            "right": null,
            "justify_content": null,
            "_view_module": "@jupyter-widgets/base",
            "overflow": null,
            "_model_module_version": "1.2.0",
            "_view_count": null,
            "flex_flow": null,
            "width": null,
            "min_width": null,
            "border": null,
            "align_items": null,
            "bottom": null,
            "_model_module": "@jupyter-widgets/base",
            "top": null,
            "grid_column": null,
            "overflow_y": null,
            "overflow_x": null,
            "grid_auto_flow": null,
            "grid_area": null,
            "grid_template_columns": null,
            "flex": null,
            "_model_name": "LayoutModel",
            "justify_items": null,
            "grid_row": null,
            "max_height": null,
            "align_content": null,
            "visibility": null,
            "align_self": null,
            "height": null,
            "min_height": null,
            "padding": null,
            "grid_auto_rows": null,
            "grid_gap": null,
            "max_width": null,
            "order": null,
            "_view_module_version": "1.2.0",
            "grid_template_areas": null,
            "object_position": null,
            "object_fit": null,
            "grid_auto_columns": null,
            "margin": null,
            "display": null,
            "left": null
          }
        },
        "09699487da934314a6c5fada20e4697e": {
          "model_module": "@jupyter-widgets/controls",
          "model_name": "HTMLModel",
          "model_module_version": "1.5.0",
          "state": {
            "_view_name": "HTMLView",
            "style": "IPY_MODEL_73e7cabab08d49958276dfe95edd9c70",
            "_dom_classes": [],
            "description": "",
            "_model_name": "HTMLModel",
            "placeholder": "​",
            "_view_module": "@jupyter-widgets/controls",
            "_model_module_version": "1.5.0",
            "value": "100%",
            "_view_count": null,
            "_view_module_version": "1.5.0",
            "description_tooltip": null,
            "_model_module": "@jupyter-widgets/controls",
            "layout": "IPY_MODEL_bd7ff194b7584743ab6045fc25222f78"
          }
        },
        "0502db846d1249cc82c61b7248414596": {
          "model_module": "@jupyter-widgets/controls",
          "model_name": "FloatProgressModel",
          "model_module_version": "1.5.0",
          "state": {
            "_view_name": "ProgressView",
            "style": "IPY_MODEL_93edbd92211a479587148e0dfdec80b6",
            "_dom_classes": [],
            "description": "",
            "_model_name": "FloatProgressModel",
            "bar_style": "success",
            "max": 450000,
            "_view_module": "@jupyter-widgets/controls",
            "_model_module_version": "1.5.0",
            "value": 450000,
            "_view_count": null,
            "_view_module_version": "1.5.0",
            "orientation": "horizontal",
            "min": 0,
            "description_tooltip": null,
            "_model_module": "@jupyter-widgets/controls",
            "layout": "IPY_MODEL_56d3e937749b43f7a44bfb03b0a88b9c"
          }
        },
        "de0986fe0ff944d38a2289b8f42bd149": {
          "model_module": "@jupyter-widgets/controls",
          "model_name": "HTMLModel",
          "model_module_version": "1.5.0",
          "state": {
            "_view_name": "HTMLView",
            "style": "IPY_MODEL_f269f12f620148ec953e719fbb82fdbe",
            "_dom_classes": [],
            "description": "",
            "_model_name": "HTMLModel",
            "placeholder": "​",
            "_view_module": "@jupyter-widgets/controls",
            "_model_module_version": "1.5.0",
            "value": " 450000/450000 [01:56&lt;00:00, 3826.15it/s]",
            "_view_count": null,
            "_view_module_version": "1.5.0",
            "description_tooltip": null,
            "_model_module": "@jupyter-widgets/controls",
            "layout": "IPY_MODEL_e467c1f269e74c1f95da895a9f8c40b6"
          }
        },
        "73e7cabab08d49958276dfe95edd9c70": {
          "model_module": "@jupyter-widgets/controls",
          "model_name": "DescriptionStyleModel",
          "model_module_version": "1.5.0",
          "state": {
            "_view_name": "StyleView",
            "_model_name": "DescriptionStyleModel",
            "description_width": "",
            "_view_module": "@jupyter-widgets/base",
            "_model_module_version": "1.5.0",
            "_view_count": null,
            "_view_module_version": "1.2.0",
            "_model_module": "@jupyter-widgets/controls"
          }
        },
        "bd7ff194b7584743ab6045fc25222f78": {
          "model_module": "@jupyter-widgets/base",
          "model_name": "LayoutModel",
          "model_module_version": "1.2.0",
          "state": {
            "_view_name": "LayoutView",
            "grid_template_rows": null,
            "right": null,
            "justify_content": null,
            "_view_module": "@jupyter-widgets/base",
            "overflow": null,
            "_model_module_version": "1.2.0",
            "_view_count": null,
            "flex_flow": null,
            "width": null,
            "min_width": null,
            "border": null,
            "align_items": null,
            "bottom": null,
            "_model_module": "@jupyter-widgets/base",
            "top": null,
            "grid_column": null,
            "overflow_y": null,
            "overflow_x": null,
            "grid_auto_flow": null,
            "grid_area": null,
            "grid_template_columns": null,
            "flex": null,
            "_model_name": "LayoutModel",
            "justify_items": null,
            "grid_row": null,
            "max_height": null,
            "align_content": null,
            "visibility": null,
            "align_self": null,
            "height": null,
            "min_height": null,
            "padding": null,
            "grid_auto_rows": null,
            "grid_gap": null,
            "max_width": null,
            "order": null,
            "_view_module_version": "1.2.0",
            "grid_template_areas": null,
            "object_position": null,
            "object_fit": null,
            "grid_auto_columns": null,
            "margin": null,
            "display": null,
            "left": null
          }
        },
        "93edbd92211a479587148e0dfdec80b6": {
          "model_module": "@jupyter-widgets/controls",
          "model_name": "ProgressStyleModel",
          "model_module_version": "1.5.0",
          "state": {
            "_view_name": "StyleView",
            "_model_name": "ProgressStyleModel",
            "description_width": "",
            "_view_module": "@jupyter-widgets/base",
            "_model_module_version": "1.5.0",
            "_view_count": null,
            "_view_module_version": "1.2.0",
            "bar_color": null,
            "_model_module": "@jupyter-widgets/controls"
          }
        },
        "56d3e937749b43f7a44bfb03b0a88b9c": {
          "model_module": "@jupyter-widgets/base",
          "model_name": "LayoutModel",
          "model_module_version": "1.2.0",
          "state": {
            "_view_name": "LayoutView",
            "grid_template_rows": null,
            "right": null,
            "justify_content": null,
            "_view_module": "@jupyter-widgets/base",
            "overflow": null,
            "_model_module_version": "1.2.0",
            "_view_count": null,
            "flex_flow": null,
            "width": null,
            "min_width": null,
            "border": null,
            "align_items": null,
            "bottom": null,
            "_model_module": "@jupyter-widgets/base",
            "top": null,
            "grid_column": null,
            "overflow_y": null,
            "overflow_x": null,
            "grid_auto_flow": null,
            "grid_area": null,
            "grid_template_columns": null,
            "flex": null,
            "_model_name": "LayoutModel",
            "justify_items": null,
            "grid_row": null,
            "max_height": null,
            "align_content": null,
            "visibility": null,
            "align_self": null,
            "height": null,
            "min_height": null,
            "padding": null,
            "grid_auto_rows": null,
            "grid_gap": null,
            "max_width": null,
            "order": null,
            "_view_module_version": "1.2.0",
            "grid_template_areas": null,
            "object_position": null,
            "object_fit": null,
            "grid_auto_columns": null,
            "margin": null,
            "display": null,
            "left": null
          }
        },
        "f269f12f620148ec953e719fbb82fdbe": {
          "model_module": "@jupyter-widgets/controls",
          "model_name": "DescriptionStyleModel",
          "model_module_version": "1.5.0",
          "state": {
            "_view_name": "StyleView",
            "_model_name": "DescriptionStyleModel",
            "description_width": "",
            "_view_module": "@jupyter-widgets/base",
            "_model_module_version": "1.5.0",
            "_view_count": null,
            "_view_module_version": "1.2.0",
            "_model_module": "@jupyter-widgets/controls"
          }
        },
        "e467c1f269e74c1f95da895a9f8c40b6": {
          "model_module": "@jupyter-widgets/base",
          "model_name": "LayoutModel",
          "model_module_version": "1.2.0",
          "state": {
            "_view_name": "LayoutView",
            "grid_template_rows": null,
            "right": null,
            "justify_content": null,
            "_view_module": "@jupyter-widgets/base",
            "overflow": null,
            "_model_module_version": "1.2.0",
            "_view_count": null,
            "flex_flow": null,
            "width": null,
            "min_width": null,
            "border": null,
            "align_items": null,
            "bottom": null,
            "_model_module": "@jupyter-widgets/base",
            "top": null,
            "grid_column": null,
            "overflow_y": null,
            "overflow_x": null,
            "grid_auto_flow": null,
            "grid_area": null,
            "grid_template_columns": null,
            "flex": null,
            "_model_name": "LayoutModel",
            "justify_items": null,
            "grid_row": null,
            "max_height": null,
            "align_content": null,
            "visibility": null,
            "align_self": null,
            "height": null,
            "min_height": null,
            "padding": null,
            "grid_auto_rows": null,
            "grid_gap": null,
            "max_width": null,
            "order": null,
            "_view_module_version": "1.2.0",
            "grid_template_areas": null,
            "object_position": null,
            "object_fit": null,
            "grid_auto_columns": null,
            "margin": null,
            "display": null,
            "left": null
          }
        },
        "e274af6df8df452eb3b87aa4d44a7b32": {
          "model_module": "@jupyter-widgets/controls",
          "model_name": "HBoxModel",
          "model_module_version": "1.5.0",
          "state": {
            "_view_name": "HBoxView",
            "_dom_classes": [],
            "_model_name": "HBoxModel",
            "_view_module": "@jupyter-widgets/controls",
            "_model_module_version": "1.5.0",
            "_view_count": null,
            "_view_module_version": "1.5.0",
            "box_style": "",
            "layout": "IPY_MODEL_82b5a772744c47fc856f18951988917c",
            "_model_module": "@jupyter-widgets/controls",
            "children": [
              "IPY_MODEL_b496153aaa2f4bcfb1f6ca70c11bf7e2",
              "IPY_MODEL_f9e724fc54cd4842bfc3044eda2ef763",
              "IPY_MODEL_c5fb429959794650ab63ccad43a3792f"
            ]
          }
        },
        "82b5a772744c47fc856f18951988917c": {
          "model_module": "@jupyter-widgets/base",
          "model_name": "LayoutModel",
          "model_module_version": "1.2.0",
          "state": {
            "_view_name": "LayoutView",
            "grid_template_rows": null,
            "right": null,
            "justify_content": null,
            "_view_module": "@jupyter-widgets/base",
            "overflow": null,
            "_model_module_version": "1.2.0",
            "_view_count": null,
            "flex_flow": null,
            "width": null,
            "min_width": null,
            "border": null,
            "align_items": null,
            "bottom": null,
            "_model_module": "@jupyter-widgets/base",
            "top": null,
            "grid_column": null,
            "overflow_y": null,
            "overflow_x": null,
            "grid_auto_flow": null,
            "grid_area": null,
            "grid_template_columns": null,
            "flex": null,
            "_model_name": "LayoutModel",
            "justify_items": null,
            "grid_row": null,
            "max_height": null,
            "align_content": null,
            "visibility": null,
            "align_self": null,
            "height": null,
            "min_height": null,
            "padding": null,
            "grid_auto_rows": null,
            "grid_gap": null,
            "max_width": null,
            "order": null,
            "_view_module_version": "1.2.0",
            "grid_template_areas": null,
            "object_position": null,
            "object_fit": null,
            "grid_auto_columns": null,
            "margin": null,
            "display": null,
            "left": null
          }
        },
        "b496153aaa2f4bcfb1f6ca70c11bf7e2": {
          "model_module": "@jupyter-widgets/controls",
          "model_name": "HTMLModel",
          "model_module_version": "1.5.0",
          "state": {
            "_view_name": "HTMLView",
            "style": "IPY_MODEL_9807fe74fc70413b8e79998192fd2de6",
            "_dom_classes": [],
            "description": "",
            "_model_name": "HTMLModel",
            "placeholder": "​",
            "_view_module": "@jupyter-widgets/controls",
            "_model_module_version": "1.5.0",
            "value": "100%",
            "_view_count": null,
            "_view_module_version": "1.5.0",
            "description_tooltip": null,
            "_model_module": "@jupyter-widgets/controls",
            "layout": "IPY_MODEL_26956daf462648038a61dab7c31eab87"
          }
        },
        "f9e724fc54cd4842bfc3044eda2ef763": {
          "model_module": "@jupyter-widgets/controls",
          "model_name": "FloatProgressModel",
          "model_module_version": "1.5.0",
          "state": {
            "_view_name": "ProgressView",
            "style": "IPY_MODEL_157bff3ad86c4d3699227356cfa9a578",
            "_dom_classes": [],
            "description": "",
            "_model_name": "FloatProgressModel",
            "bar_style": "success",
            "max": 450000,
            "_view_module": "@jupyter-widgets/controls",
            "_model_module_version": "1.5.0",
            "value": 450000,
            "_view_count": null,
            "_view_module_version": "1.5.0",
            "orientation": "horizontal",
            "min": 0,
            "description_tooltip": null,
            "_model_module": "@jupyter-widgets/controls",
            "layout": "IPY_MODEL_328959fc76124ac3b4ea41ecbaac7538"
          }
        },
        "c5fb429959794650ab63ccad43a3792f": {
          "model_module": "@jupyter-widgets/controls",
          "model_name": "HTMLModel",
          "model_module_version": "1.5.0",
          "state": {
            "_view_name": "HTMLView",
            "style": "IPY_MODEL_27a64464ce96412e9e12502c86afe62d",
            "_dom_classes": [],
            "description": "",
            "_model_name": "HTMLModel",
            "placeholder": "​",
            "_view_module": "@jupyter-widgets/controls",
            "_model_module_version": "1.5.0",
            "value": " 450000/450000 [01:54&lt;00:00, 4075.73it/s]",
            "_view_count": null,
            "_view_module_version": "1.5.0",
            "description_tooltip": null,
            "_model_module": "@jupyter-widgets/controls",
            "layout": "IPY_MODEL_ad2f9755024446e29540b6788d689cf9"
          }
        },
        "9807fe74fc70413b8e79998192fd2de6": {
          "model_module": "@jupyter-widgets/controls",
          "model_name": "DescriptionStyleModel",
          "model_module_version": "1.5.0",
          "state": {
            "_view_name": "StyleView",
            "_model_name": "DescriptionStyleModel",
            "description_width": "",
            "_view_module": "@jupyter-widgets/base",
            "_model_module_version": "1.5.0",
            "_view_count": null,
            "_view_module_version": "1.2.0",
            "_model_module": "@jupyter-widgets/controls"
          }
        },
        "26956daf462648038a61dab7c31eab87": {
          "model_module": "@jupyter-widgets/base",
          "model_name": "LayoutModel",
          "model_module_version": "1.2.0",
          "state": {
            "_view_name": "LayoutView",
            "grid_template_rows": null,
            "right": null,
            "justify_content": null,
            "_view_module": "@jupyter-widgets/base",
            "overflow": null,
            "_model_module_version": "1.2.0",
            "_view_count": null,
            "flex_flow": null,
            "width": null,
            "min_width": null,
            "border": null,
            "align_items": null,
            "bottom": null,
            "_model_module": "@jupyter-widgets/base",
            "top": null,
            "grid_column": null,
            "overflow_y": null,
            "overflow_x": null,
            "grid_auto_flow": null,
            "grid_area": null,
            "grid_template_columns": null,
            "flex": null,
            "_model_name": "LayoutModel",
            "justify_items": null,
            "grid_row": null,
            "max_height": null,
            "align_content": null,
            "visibility": null,
            "align_self": null,
            "height": null,
            "min_height": null,
            "padding": null,
            "grid_auto_rows": null,
            "grid_gap": null,
            "max_width": null,
            "order": null,
            "_view_module_version": "1.2.0",
            "grid_template_areas": null,
            "object_position": null,
            "object_fit": null,
            "grid_auto_columns": null,
            "margin": null,
            "display": null,
            "left": null
          }
        },
        "157bff3ad86c4d3699227356cfa9a578": {
          "model_module": "@jupyter-widgets/controls",
          "model_name": "ProgressStyleModel",
          "model_module_version": "1.5.0",
          "state": {
            "_view_name": "StyleView",
            "_model_name": "ProgressStyleModel",
            "description_width": "",
            "_view_module": "@jupyter-widgets/base",
            "_model_module_version": "1.5.0",
            "_view_count": null,
            "_view_module_version": "1.2.0",
            "bar_color": null,
            "_model_module": "@jupyter-widgets/controls"
          }
        },
        "328959fc76124ac3b4ea41ecbaac7538": {
          "model_module": "@jupyter-widgets/base",
          "model_name": "LayoutModel",
          "model_module_version": "1.2.0",
          "state": {
            "_view_name": "LayoutView",
            "grid_template_rows": null,
            "right": null,
            "justify_content": null,
            "_view_module": "@jupyter-widgets/base",
            "overflow": null,
            "_model_module_version": "1.2.0",
            "_view_count": null,
            "flex_flow": null,
            "width": null,
            "min_width": null,
            "border": null,
            "align_items": null,
            "bottom": null,
            "_model_module": "@jupyter-widgets/base",
            "top": null,
            "grid_column": null,
            "overflow_y": null,
            "overflow_x": null,
            "grid_auto_flow": null,
            "grid_area": null,
            "grid_template_columns": null,
            "flex": null,
            "_model_name": "LayoutModel",
            "justify_items": null,
            "grid_row": null,
            "max_height": null,
            "align_content": null,
            "visibility": null,
            "align_self": null,
            "height": null,
            "min_height": null,
            "padding": null,
            "grid_auto_rows": null,
            "grid_gap": null,
            "max_width": null,
            "order": null,
            "_view_module_version": "1.2.0",
            "grid_template_areas": null,
            "object_position": null,
            "object_fit": null,
            "grid_auto_columns": null,
            "margin": null,
            "display": null,
            "left": null
          }
        },
        "27a64464ce96412e9e12502c86afe62d": {
          "model_module": "@jupyter-widgets/controls",
          "model_name": "DescriptionStyleModel",
          "model_module_version": "1.5.0",
          "state": {
            "_view_name": "StyleView",
            "_model_name": "DescriptionStyleModel",
            "description_width": "",
            "_view_module": "@jupyter-widgets/base",
            "_model_module_version": "1.5.0",
            "_view_count": null,
            "_view_module_version": "1.2.0",
            "_model_module": "@jupyter-widgets/controls"
          }
        },
        "ad2f9755024446e29540b6788d689cf9": {
          "model_module": "@jupyter-widgets/base",
          "model_name": "LayoutModel",
          "model_module_version": "1.2.0",
          "state": {
            "_view_name": "LayoutView",
            "grid_template_rows": null,
            "right": null,
            "justify_content": null,
            "_view_module": "@jupyter-widgets/base",
            "overflow": null,
            "_model_module_version": "1.2.0",
            "_view_count": null,
            "flex_flow": null,
            "width": null,
            "min_width": null,
            "border": null,
            "align_items": null,
            "bottom": null,
            "_model_module": "@jupyter-widgets/base",
            "top": null,
            "grid_column": null,
            "overflow_y": null,
            "overflow_x": null,
            "grid_auto_flow": null,
            "grid_area": null,
            "grid_template_columns": null,
            "flex": null,
            "_model_name": "LayoutModel",
            "justify_items": null,
            "grid_row": null,
            "max_height": null,
            "align_content": null,
            "visibility": null,
            "align_self": null,
            "height": null,
            "min_height": null,
            "padding": null,
            "grid_auto_rows": null,
            "grid_gap": null,
            "max_width": null,
            "order": null,
            "_view_module_version": "1.2.0",
            "grid_template_areas": null,
            "object_position": null,
            "object_fit": null,
            "grid_auto_columns": null,
            "margin": null,
            "display": null,
            "left": null
          }
        }
      }
    }
  },
  "cells": [
    {
      "cell_type": "markdown",
      "metadata": {
        "id": "view-in-github",
        "colab_type": "text"
      },
      "source": [
        "<a href=\"https://colab.research.google.com/github/kargaranamir/issue-tagger/blob/main/TFIDF.ipynb\" target=\"_parent\"><img src=\"https://colab.research.google.com/assets/colab-badge.svg\" alt=\"Open In Colab\"/></a>"
      ]
    },
    {
      "cell_type": "markdown",
      "source": [
        "# Data and Start"
      ],
      "metadata": {
        "id": "VGMOCwoeIaNl"
      }
    },
    {
      "cell_type": "markdown",
      "source": [
        "## Data Download"
      ],
      "metadata": {
        "id": "vGHjMHAPx6pT"
      }
    },
    {
      "cell_type": "code",
      "source": [
        "! wget https://machinehack-be.s3.amazonaws.com/predict_github_issues_embold_sponsored_hackathon/Embold_Participant%27s_Dataset.zip -O data.zip\n",
        "! unzip ./data.zip \n",
        "! mv ./Embold_Participant\\'s_Dataset ./data\n",
        "! rm -rf ./data/sample\\ submission.csv\n",
        "! rm -rf ./data/embold_test.json"
      ],
      "metadata": {
        "id": "6ee4iGhkyYlj"
      },
      "execution_count": null,
      "outputs": []
    },
    {
      "cell_type": "markdown",
      "source": [
        "## Import Libraries"
      ],
      "metadata": {
        "id": "KM_VPj4m2oWq"
      }
    },
    {
      "cell_type": "code",
      "source": [
        "import pandas as pd\n",
        "import numpy as np\n",
        "from sklearn.feature_extraction.text import TfidfVectorizer\n",
        "from sklearn.metrics.pairwise import cosine_similarity\n",
        "from sklearn.linear_model import LogisticRegression\n",
        "from sklearn.metrics import classification_report, accuracy_score, confusion_matrix\n",
        "from sklearn.preprocessing import LabelEncoder\n",
        "from sklearn.model_selection import train_test_split, GridSearchCV\n",
        "\n",
        "from sklearn.neighbors import KNeighborsClassifier\n",
        "from sklearn.svm import SVC\n",
        "\n",
        "\n",
        "\n",
        "import re\n",
        "\n",
        "from sklearn.model_selection import PredefinedSplit, RandomizedSearchCV\n",
        "from sklearn.pipeline import Pipeline\n",
        "\n",
        "import nltk\n",
        "\n",
        "from nltk.corpus import stopwords\n",
        "from nltk import word_tokenize          \n",
        "from nltk.stem import WordNetLemmatizer\n",
        "from nltk import pos_tag\n",
        "import string\n",
        "\n",
        "from tqdm.notebook import tqdm\n",
        "tqdm.pandas()\n"
      ],
      "metadata": {
        "id": "9ZPFAKBgTOtF"
      },
      "execution_count": 4,
      "outputs": []
    },
    {
      "cell_type": "code",
      "source": [
        "nltk.download('stopwords')\n",
        "nltk.download('punkt')\n",
        "nltk.download('averaged_perceptron_tagger')\n",
        "nltk.download('wordnet')"
      ],
      "metadata": {
        "id": "-cTM9wDUA-x1"
      },
      "execution_count": null,
      "outputs": []
    },
    {
      "cell_type": "markdown",
      "source": [
        "## Load Data"
      ],
      "metadata": {
        "id": "XQXwvMi82sfZ"
      }
    },
    {
      "cell_type": "code",
      "source": [
        "# merge data\n",
        "data_small_df = pd.read_json('./data/embold_train.json').reset_index(drop=True)\n",
        "data_large_df = pd.read_json('./data/embold_train_extra.json').reset_index(drop=True)\n",
        "data_df = data_small_df.append(data_large_df)\n",
        "data_df['text'] = data_df['title']+' '+data_df['body']\n",
        "data_df['text_length'] = data_df['text'].apply(lambda text_input: len(text_input.split()))"
      ],
      "metadata": {
        "id": "55ZKJyjs1Aha"
      },
      "execution_count": 6,
      "outputs": []
    },
    {
      "cell_type": "code",
      "source": [
        "# heaf of data\n",
        "data_df.head()"
      ],
      "metadata": {
        "colab": {
          "base_uri": "https://localhost:8080/",
          "height": 337
        },
        "id": "srS4Qp4K1DYb",
        "outputId": "84934b7c-6c8b-4d9b-8fa7-37d8ba2d2252"
      },
      "execution_count": 7,
      "outputs": [
        {
          "output_type": "execute_result",
          "data": {
            "text/html": [
              "\n",
              "  <div id=\"df-c0646917-c549-41bd-a178-090c5a719966\">\n",
              "    <div class=\"colab-df-container\">\n",
              "      <div>\n",
              "<style scoped>\n",
              "    .dataframe tbody tr th:only-of-type {\n",
              "        vertical-align: middle;\n",
              "    }\n",
              "\n",
              "    .dataframe tbody tr th {\n",
              "        vertical-align: top;\n",
              "    }\n",
              "\n",
              "    .dataframe thead th {\n",
              "        text-align: right;\n",
              "    }\n",
              "</style>\n",
              "<table border=\"1\" class=\"dataframe\">\n",
              "  <thead>\n",
              "    <tr style=\"text-align: right;\">\n",
              "      <th></th>\n",
              "      <th>title</th>\n",
              "      <th>body</th>\n",
              "      <th>label</th>\n",
              "      <th>text</th>\n",
              "      <th>text_length</th>\n",
              "    </tr>\n",
              "  </thead>\n",
              "  <tbody>\n",
              "    <tr>\n",
              "      <th>0</th>\n",
              "      <td>y-zoom piano roll</td>\n",
              "      <td>a y-zoom on the piano roll would be useful.</td>\n",
              "      <td>1</td>\n",
              "      <td>y-zoom piano roll a y-zoom on the piano roll w...</td>\n",
              "      <td>12</td>\n",
              "    </tr>\n",
              "    <tr>\n",
              "      <th>1</th>\n",
              "      <td>buggy behavior in selection</td>\n",
              "      <td>! screenshot from 2016-02-23 21 27 40  https:/...</td>\n",
              "      <td>0</td>\n",
              "      <td>buggy behavior in selection ! screenshot from ...</td>\n",
              "      <td>13</td>\n",
              "    </tr>\n",
              "    <tr>\n",
              "      <th>2</th>\n",
              "      <td>auto update feature</td>\n",
              "      <td>hi,\\r \\r great job so far, @saenzramiro ! : \\r...</td>\n",
              "      <td>1</td>\n",
              "      <td>auto update feature hi,\\r \\r great job so far,...</td>\n",
              "      <td>35</td>\n",
              "    </tr>\n",
              "    <tr>\n",
              "      <th>3</th>\n",
              "      <td>filter out noisy endpoints in logs</td>\n",
              "      <td>i think we should stop logging requests to:\\r ...</td>\n",
              "      <td>1</td>\n",
              "      <td>filter out noisy endpoints in logs i think we ...</td>\n",
              "      <td>23</td>\n",
              "    </tr>\n",
              "    <tr>\n",
              "      <th>4</th>\n",
              "      <td>enable pid on / pid off alarm actions for ardu...</td>\n",
              "      <td>expected behavior\\r alarm actions pid on and p...</td>\n",
              "      <td>0</td>\n",
              "      <td>enable pid on / pid off alarm actions for ardu...</td>\n",
              "      <td>291</td>\n",
              "    </tr>\n",
              "  </tbody>\n",
              "</table>\n",
              "</div>\n",
              "      <button class=\"colab-df-convert\" onclick=\"convertToInteractive('df-c0646917-c549-41bd-a178-090c5a719966')\"\n",
              "              title=\"Convert this dataframe to an interactive table.\"\n",
              "              style=\"display:none;\">\n",
              "        \n",
              "  <svg xmlns=\"http://www.w3.org/2000/svg\" height=\"24px\"viewBox=\"0 0 24 24\"\n",
              "       width=\"24px\">\n",
              "    <path d=\"M0 0h24v24H0V0z\" fill=\"none\"/>\n",
              "    <path d=\"M18.56 5.44l.94 2.06.94-2.06 2.06-.94-2.06-.94-.94-2.06-.94 2.06-2.06.94zm-11 1L8.5 8.5l.94-2.06 2.06-.94-2.06-.94L8.5 2.5l-.94 2.06-2.06.94zm10 10l.94 2.06.94-2.06 2.06-.94-2.06-.94-.94-2.06-.94 2.06-2.06.94z\"/><path d=\"M17.41 7.96l-1.37-1.37c-.4-.4-.92-.59-1.43-.59-.52 0-1.04.2-1.43.59L10.3 9.45l-7.72 7.72c-.78.78-.78 2.05 0 2.83L4 21.41c.39.39.9.59 1.41.59.51 0 1.02-.2 1.41-.59l7.78-7.78 2.81-2.81c.8-.78.8-2.07 0-2.86zM5.41 20L4 18.59l7.72-7.72 1.47 1.35L5.41 20z\"/>\n",
              "  </svg>\n",
              "      </button>\n",
              "      \n",
              "  <style>\n",
              "    .colab-df-container {\n",
              "      display:flex;\n",
              "      flex-wrap:wrap;\n",
              "      gap: 12px;\n",
              "    }\n",
              "\n",
              "    .colab-df-convert {\n",
              "      background-color: #E8F0FE;\n",
              "      border: none;\n",
              "      border-radius: 50%;\n",
              "      cursor: pointer;\n",
              "      display: none;\n",
              "      fill: #1967D2;\n",
              "      height: 32px;\n",
              "      padding: 0 0 0 0;\n",
              "      width: 32px;\n",
              "    }\n",
              "\n",
              "    .colab-df-convert:hover {\n",
              "      background-color: #E2EBFA;\n",
              "      box-shadow: 0px 1px 2px rgba(60, 64, 67, 0.3), 0px 1px 3px 1px rgba(60, 64, 67, 0.15);\n",
              "      fill: #174EA6;\n",
              "    }\n",
              "\n",
              "    [theme=dark] .colab-df-convert {\n",
              "      background-color: #3B4455;\n",
              "      fill: #D2E3FC;\n",
              "    }\n",
              "\n",
              "    [theme=dark] .colab-df-convert:hover {\n",
              "      background-color: #434B5C;\n",
              "      box-shadow: 0px 1px 3px 1px rgba(0, 0, 0, 0.15);\n",
              "      filter: drop-shadow(0px 1px 2px rgba(0, 0, 0, 0.3));\n",
              "      fill: #FFFFFF;\n",
              "    }\n",
              "  </style>\n",
              "\n",
              "      <script>\n",
              "        const buttonEl =\n",
              "          document.querySelector('#df-c0646917-c549-41bd-a178-090c5a719966 button.colab-df-convert');\n",
              "        buttonEl.style.display =\n",
              "          google.colab.kernel.accessAllowed ? 'block' : 'none';\n",
              "\n",
              "        async function convertToInteractive(key) {\n",
              "          const element = document.querySelector('#df-c0646917-c549-41bd-a178-090c5a719966');\n",
              "          const dataTable =\n",
              "            await google.colab.kernel.invokeFunction('convertToInteractive',\n",
              "                                                     [key], {});\n",
              "          if (!dataTable) return;\n",
              "\n",
              "          const docLinkHtml = 'Like what you see? Visit the ' +\n",
              "            '<a target=\"_blank\" href=https://colab.research.google.com/notebooks/data_table.ipynb>data table notebook</a>'\n",
              "            + ' to learn more about interactive tables.';\n",
              "          element.innerHTML = '';\n",
              "          dataTable['output_type'] = 'display_data';\n",
              "          await google.colab.output.renderOutput(dataTable, element);\n",
              "          const docLink = document.createElement('div');\n",
              "          docLink.innerHTML = docLinkHtml;\n",
              "          element.appendChild(docLink);\n",
              "        }\n",
              "      </script>\n",
              "    </div>\n",
              "  </div>\n",
              "  "
            ],
            "text/plain": [
              "                                               title  ... text_length\n",
              "0                                  y-zoom piano roll  ...          12\n",
              "1                        buggy behavior in selection  ...          13\n",
              "2                                auto update feature  ...          35\n",
              "3                 filter out noisy endpoints in logs  ...          23\n",
              "4  enable pid on / pid off alarm actions for ardu...  ...         291\n",
              "\n",
              "[5 rows x 5 columns]"
            ]
          },
          "metadata": {},
          "execution_count": 7
        }
      ]
    },
    {
      "cell_type": "code",
      "source": [
        "stopwords_list = stopwords.words('english')\n",
        "\n",
        "def lemmatize(text):\n",
        "    list_pos = 0\n",
        "    cleaned_str = ''\n",
        "    lmtzr = WordNetLemmatizer()\n",
        "    \n",
        "    tagged_words = pos_tag(text)\n",
        "    for word in tagged_words:\n",
        "        if 'v' in word[1].lower():\n",
        "            lemma = lmtzr.lemmatize(word[0], pos='v')\n",
        "        else:\n",
        "            lemma = lmtzr.lemmatize(word[0], pos='n')\n",
        "        if list_pos == 0:\n",
        "            cleaned_str = lemma\n",
        "        else:\n",
        "            cleaned_str = cleaned_str + ' ' + lemma\n",
        "        list_pos += 1\n",
        "    return cleaned_str\n",
        "\n",
        "\n",
        "def clean_text(text, lowercase=True, stop_words=True, lemmatization=True):\n",
        "    text = text.replace(\"\\\\r\", \"\")\n",
        "    text = re.sub('\\[.*?\\]', '', text)\n",
        "    text = re.sub('<.*?>+', '', text)\n",
        "    text = re.sub('[%s]' % re.escape(string.punctuation), '', text)\n",
        "    text = re.sub('\\n', '', text)\n",
        "\n",
        "    if lowercase:\n",
        "        text = text.lower()\n",
        "\n",
        "    text = re.sub(r'\\bid\\b', 'i would', text) #start abbreviation\n",
        "    text = re.sub(r'\\bive\\b', 'i have', text)\n",
        "    text = re.sub(r'\\bim\\b', 'i am', text)\n",
        "    text = re.sub(r'\\bcant\\b', 'can not', text)\n",
        "    text = re.sub(r'\\bdont\\b', 'do not', text)\n",
        "    text = re.sub(r'\\bwont\\b', 'will not', text)\n",
        "    text = re.sub(r'\\bthats\\b', 'that is', text) #end abbreviation\n",
        "\n",
        "    text = re.sub('https?://\\S+|www\\.\\S+', '', text) #remove links    \n",
        "    text = re.sub(r'[^\\x00-\\x7F]+',' ', text) #remove non-ascii\n",
        "\n",
        "    if lemmatization:\n",
        "        word_list = nltk.word_tokenize(text)\n",
        "        text = lemmatize(word_list)\n",
        "\n",
        "    if stop_words:\n",
        "        text = \" \".join([word for word in text.split() if word not in stopwords_list])\n",
        "\n",
        "    text = re.sub('\\w*\\d\\w*', '', text) #numbers in words\n",
        "    text = re.sub('[0-9]+', '', text) # delete numbers\n",
        "    return text"
      ],
      "metadata": {
        "id": "O1UVMHDUTccC"
      },
      "execution_count": 24,
      "outputs": []
    },
    {
      "cell_type": "code",
      "source": [
        "# example\n",
        "clean_text(\"Alex goes to google and see a bad person\")"
      ],
      "metadata": {
        "colab": {
          "base_uri": "https://localhost:8080/",
          "height": 35
        },
        "id": "IIR0gmZbBZCc",
        "outputId": "4d173545-dbcb-4c1b-e9ac-6f80d131f9f3"
      },
      "execution_count": 28,
      "outputs": [
        {
          "output_type": "execute_result",
          "data": {
            "application/vnd.google.colaboratory.intrinsic+json": {
              "type": "string"
            },
            "text/plain": [
              "'Alex go google see bad person'"
            ]
          },
          "metadata": {},
          "execution_count": 28
        }
      ]
    },
    {
      "cell_type": "code",
      "source": [
        "data_df['text_clean_lowercase_stopwords_lemmatize'] = data_df['text'].progress_apply(lambda text: clean_text(text))\n",
        "data_df['text_clean_lowercase_stopwords'] = data_df['text'].progress_apply(lambda text: clean_text(text, lemmatization=False))\n",
        "data_df['text_clean_lowercase'] = data_df['text'].progress_apply(lambda text: clean_text(text, lemmatization=False, stop_words=False))\n",
        "data_df['text_clean'] = data_df['text'].progress_apply(lambda text: clean_text(text, lemmatization=False, stop_words=False, lowercase=False))\n"
      ],
      "metadata": {
        "colab": {
          "base_uri": "https://localhost:8080/",
          "height": 145,
          "referenced_widgets": [
            "c1ab01bfe36d43f9b215f9c4394bf351",
            "bb7c20ea658942bf98df61a07f93f2d8",
            "b32af45c2a00420786b9069873af5a1d",
            "5c8542a6a0cd49efac8a90aaa66a9e65",
            "83c327a7adea4708af9646e0801c7917",
            "88041960e4c14293a3048bec38d02d34",
            "f4e73359716944aea52ad96c3cde537f",
            "cc64e51c1c2d4af58a3838bbc4fc9410",
            "ef5b13941a6048398d60988964ffb8f4",
            "0097834c16f043c3a68e3b2980ad6734",
            "e41bfaeb120b4af1a58b39ed4c0e4781",
            "4367723a58924995b318e032e98068f6",
            "4ec2184123994fda861b435fe5af8846",
            "bd211bcd6a2b4fdf8a282fab2bcb1cfe",
            "be98b21c1f124385bb841138088014ff",
            "6fef74c093ba4b46aeedec663e0c43c6",
            "5f5e21f56c2d42c1a894b2f4c00c0cd4",
            "a366f5e8f7ac4213a0afeb0b62dd720a",
            "83f873d234504324bec689cc0841cff7",
            "3b73628644504cebad53381135899722",
            "0abfc7d1489e462184a14f458c332da1",
            "a44fb40af58e4ba98cb779023e539dd8",
            "339b31cbe7694ea8b4d5319b5146a446",
            "c743b64f99134d49b6eb9833dbc29b59",
            "09699487da934314a6c5fada20e4697e",
            "0502db846d1249cc82c61b7248414596",
            "de0986fe0ff944d38a2289b8f42bd149",
            "73e7cabab08d49958276dfe95edd9c70",
            "bd7ff194b7584743ab6045fc25222f78",
            "93edbd92211a479587148e0dfdec80b6",
            "56d3e937749b43f7a44bfb03b0a88b9c",
            "f269f12f620148ec953e719fbb82fdbe",
            "e467c1f269e74c1f95da895a9f8c40b6",
            "e274af6df8df452eb3b87aa4d44a7b32",
            "82b5a772744c47fc856f18951988917c",
            "b496153aaa2f4bcfb1f6ca70c11bf7e2",
            "f9e724fc54cd4842bfc3044eda2ef763",
            "c5fb429959794650ab63ccad43a3792f",
            "9807fe74fc70413b8e79998192fd2de6",
            "26956daf462648038a61dab7c31eab87",
            "157bff3ad86c4d3699227356cfa9a578",
            "328959fc76124ac3b4ea41ecbaac7538",
            "27a64464ce96412e9e12502c86afe62d",
            "ad2f9755024446e29540b6788d689cf9"
          ]
        },
        "id": "pmdwMqZNTpkt",
        "outputId": "dba8d71a-14c2-45b3-e8e9-8c9a26e3bafe"
      },
      "execution_count": 29,
      "outputs": [
        {
          "output_type": "display_data",
          "data": {
            "application/vnd.jupyter.widget-view+json": {
              "model_id": "c1ab01bfe36d43f9b215f9c4394bf351",
              "version_minor": 0,
              "version_major": 2
            },
            "text/plain": [
              "  0%|          | 0/450000 [00:00<?, ?it/s]"
            ]
          },
          "metadata": {}
        },
        {
          "output_type": "display_data",
          "data": {
            "application/vnd.jupyter.widget-view+json": {
              "model_id": "4367723a58924995b318e032e98068f6",
              "version_minor": 0,
              "version_major": 2
            },
            "text/plain": [
              "  0%|          | 0/450000 [00:00<?, ?it/s]"
            ]
          },
          "metadata": {}
        },
        {
          "output_type": "display_data",
          "data": {
            "application/vnd.jupyter.widget-view+json": {
              "model_id": "339b31cbe7694ea8b4d5319b5146a446",
              "version_minor": 0,
              "version_major": 2
            },
            "text/plain": [
              "  0%|          | 0/450000 [00:00<?, ?it/s]"
            ]
          },
          "metadata": {}
        },
        {
          "output_type": "display_data",
          "data": {
            "application/vnd.jupyter.widget-view+json": {
              "model_id": "e274af6df8df452eb3b87aa4d44a7b32",
              "version_minor": 0,
              "version_major": 2
            },
            "text/plain": [
              "  0%|          | 0/450000 [00:00<?, ?it/s]"
            ]
          },
          "metadata": {}
        }
      ]
    },
    {
      "cell_type": "markdown",
      "source": [
        "# Methods"
      ],
      "metadata": {
        "id": "J-q0x8wgIgEz"
      }
    },
    {
      "cell_type": "code",
      "source": [
        "def analysis(labels, predictions):\n",
        "    print(\"Report Classification: \\n\", classification_report(labels, predictions, target_names=['Bug', 'Feature', 'Question']))\n",
        "    print(\"Matrix Confusion: \\n\", confusion_matrix(labels, predictions))\n",
        "    print(\"Accuracy: \\n\", accuracy_score(labels,predictions))"
      ],
      "metadata": {
        "id": "CVwNM9-xgUIC"
      },
      "execution_count": 30,
      "outputs": []
    },
    {
      "cell_type": "markdown",
      "source": [
        "## Lower Case + Stop Words + Lemmatization"
      ],
      "metadata": {
        "id": "QrYb7KNeHux8"
      }
    },
    {
      "cell_type": "markdown",
      "source": [
        "### Split Data"
      ],
      "metadata": {
        "id": "It4vlMWkXAOy"
      }
    },
    {
      "cell_type": "code",
      "source": [
        "label_encoder = LabelEncoder()\n",
        "\n",
        "X = data_df['text_clean_lowercase_stopwords_lemmatize'].values\n",
        "y = label_encoder.fit_transform(data_df['label'])"
      ],
      "metadata": {
        "id": "3NlhpL5fTr30"
      },
      "execution_count": 31,
      "outputs": []
    },
    {
      "cell_type": "code",
      "source": [
        "X_train, X_test, y_train, y_test  = train_test_split(X, y, test_size=0.2, random_state=1)\n",
        "X_train, X_val, y_train, y_val = train_test_split(X_train, y_train, test_size=0.125, random_state=1) # 0.125 x 0.8 = 0.1\n"
      ],
      "metadata": {
        "id": "SwTnzMY3TtkE"
      },
      "execution_count": 32,
      "outputs": []
    },
    {
      "cell_type": "markdown",
      "source": [
        "### TFIDF"
      ],
      "metadata": {
        "id": "AYw2iuS5XDr0"
      }
    },
    {
      "cell_type": "code",
      "source": [
        "vectorizer = TfidfVectorizer(min_df=1, ngram_range = (1,1), max_features=12000)\n",
        "train_data_features = vectorizer.fit_transform(X_train)\n",
        "print(train_data_features.shape)"
      ],
      "metadata": {
        "colab": {
          "base_uri": "https://localhost:8080/"
        },
        "id": "K_wzi-V-V2IC",
        "outputId": "24bbe987-bdc5-407c-e9d1-72434051bb49"
      },
      "execution_count": 33,
      "outputs": [
        {
          "output_type": "stream",
          "name": "stdout",
          "text": [
            "(315000, 12000)\n"
          ]
        }
      ]
    },
    {
      "cell_type": "code",
      "source": [
        "val_data_features = vectorizer.transform(X_val)\n",
        "test_data_features = vectorizer.transform(X_test)\n",
        "vectorizer.get_feature_names()[200:210]"
      ],
      "metadata": {
        "colab": {
          "base_uri": "https://localhost:8080/"
        },
        "id": "XXvS2CcTWK2f",
        "outputId": "e11241d2-a293-46c6-defa-b33444aa5060"
      },
      "execution_count": 34,
      "outputs": [
        {
          "output_type": "stream",
          "name": "stderr",
          "text": [
            "/usr/local/lib/python3.7/dist-packages/sklearn/utils/deprecation.py:87: FutureWarning: Function get_feature_names is deprecated; get_feature_names is deprecated in 1.0 and will be removed in 1.2. Please use get_feature_names_out instead.\n",
            "  warnings.warn(msg, category=FutureWarning)\n"
          ]
        },
        {
          "output_type": "execute_result",
          "data": {
            "text/plain": [
              "['aframe',\n",
              " 'afternoon',\n",
              " 'afterwards',\n",
              " 'ag',\n",
              " 'agda',\n",
              " 'age',\n",
              " 'agency',\n",
              " 'agenda',\n",
              " 'agent',\n",
              " 'agg']"
            ]
          },
          "metadata": {},
          "execution_count": 34
        }
      ]
    },
    {
      "cell_type": "markdown",
      "source": [
        "### Model"
      ],
      "metadata": {
        "id": "n1ATKT6jXKri"
      }
    },
    {
      "cell_type": "markdown",
      "source": [
        "#### Logistic Regression"
      ],
      "metadata": {
        "id": "aB9DMIjcbw70"
      }
    },
    {
      "cell_type": "code",
      "source": [
        "### logistic regression\n",
        "\n",
        "clf = LogisticRegression(C=1, penalty = 'l2', random_state=0, solver='liblinear', max_iter=1000, multi_class='ovr')\n",
        "\n",
        "clf.fit(train_data_features, y_train)\n",
        "\n",
        "print(\"-------LR-------:\")\n",
        "print(\"-------C=1-------\")\n",
        "print(\"-------Validation-------:\")\n",
        "Y_val_pred = clf.predict(val_data_features)\n",
        "analysis(y_val, Y_val_pred)\n",
        "\n",
        "print(\"-------Test-------:\")\n",
        "Y_test_pred = clf.predict(test_data_features)\n",
        "analysis(y_test, Y_test_pred)\n"
      ],
      "metadata": {
        "colab": {
          "base_uri": "https://localhost:8080/"
        },
        "id": "9y7ERvPZjgAT",
        "outputId": "bcd46163-9606-4a2e-8af4-5e2140e2bf38"
      },
      "execution_count": 36,
      "outputs": [
        {
          "output_type": "stream",
          "name": "stdout",
          "text": [
            "-------LR-------:\n",
            "-------C=1-------\n",
            "-------Validation-------:\n",
            "Report Classification: \n",
            "               precision    recall  f1-score   support\n",
            "\n",
            "         Bug       0.77      0.82      0.79     20121\n",
            "     Feature       0.76      0.83      0.79     20684\n",
            "    Question       0.64      0.21      0.31      4195\n",
            "\n",
            "    accuracy                           0.76     45000\n",
            "   macro avg       0.72      0.62      0.63     45000\n",
            "weighted avg       0.76      0.76      0.75     45000\n",
            "\n",
            "Matrix Confusion: \n",
            " [[16423  3478   220]\n",
            " [ 3330 17079   275]\n",
            " [ 1491  1839   865]]\n",
            "Accuracy: \n",
            " 0.7637111111111111\n",
            "-------Test-------:\n",
            "Report Classification: \n",
            "               precision    recall  f1-score   support\n",
            "\n",
            "         Bug       0.77      0.82      0.79     40165\n",
            "     Feature       0.76      0.82      0.79     41329\n",
            "    Question       0.63      0.20      0.31      8506\n",
            "\n",
            "    accuracy                           0.76     90000\n",
            "   macro avg       0.72      0.61      0.63     90000\n",
            "weighted avg       0.75      0.76      0.75     90000\n",
            "\n",
            "Matrix Confusion: \n",
            " [[32783  6926   456]\n",
            " [ 6766 33981   582]\n",
            " [ 3113  3655  1738]]\n",
            "Accuracy: \n",
            " 0.7611333333333333\n"
          ]
        }
      ]
    },
    {
      "cell_type": "markdown",
      "source": [
        "#### SVM "
      ],
      "metadata": {
        "id": "fAZ_nadm81Wb"
      }
    },
    {
      "cell_type": "code",
      "source": [
        "### svm \n",
        "clf = SVC(C=1, kernel= 'rbf', max_iter = 1000)\n",
        "clf.fit(train_data_features, y_train)\n",
        "\n",
        "print(\"-------SVM-------:\")\n",
        "print(\"-------kernel=rbf-------\")\n",
        "print(\"-------Validation-------:\")\n",
        "Y_val_pred = clf.predict(val_data_features)\n",
        "analysis(y_val, Y_val_pred)\n",
        "\n",
        "print(\"-------Test-------:\")\n",
        "Y_test_pred = clf.predict(test_data_features)\n",
        "analysis(y_test, Y_test_pred)\n"
      ],
      "metadata": {
        "id": "rNxW4QCboRIO",
        "colab": {
          "base_uri": "https://localhost:8080/"
        },
        "outputId": "4348f674-4388-4621-a34d-4ef36fa0c73d"
      },
      "execution_count": 37,
      "outputs": [
        {
          "output_type": "stream",
          "name": "stderr",
          "text": [
            "/usr/local/lib/python3.7/dist-packages/sklearn/svm/_base.py:289: ConvergenceWarning: Solver terminated early (max_iter=1000).  Consider pre-processing your data with StandardScaler or MinMaxScaler.\n",
            "  ConvergenceWarning,\n"
          ]
        },
        {
          "output_type": "stream",
          "name": "stdout",
          "text": [
            "-------SVM-------:\n",
            "-------kernel=rbf-------\n",
            "-------Validation-------:\n",
            "Report Classification: \n",
            "               precision    recall  f1-score   support\n",
            "\n",
            "         Bug       0.57      0.67      0.61     20121\n",
            "     Feature       0.62      0.51      0.56     20684\n",
            "    Question       0.21      0.22      0.21      4195\n",
            "\n",
            "    accuracy                           0.55     45000\n",
            "   macro avg       0.47      0.46      0.46     45000\n",
            "weighted avg       0.56      0.55      0.55     45000\n",
            "\n",
            "Matrix Confusion: \n",
            " [[13433  5179  1509]\n",
            " [ 8267 10516  1901]\n",
            " [ 2000  1281   914]]\n",
            "Accuracy: \n",
            " 0.5525111111111111\n",
            "-------Test-------:\n",
            "Report Classification: \n",
            "               precision    recall  f1-score   support\n",
            "\n",
            "         Bug       0.57      0.67      0.61     40165\n",
            "     Feature       0.62      0.51      0.56     41329\n",
            "    Question       0.21      0.22      0.22      8506\n",
            "\n",
            "    accuracy                           0.55     90000\n",
            "   macro avg       0.47      0.47      0.46     90000\n",
            "weighted avg       0.56      0.55      0.55     90000\n",
            "\n",
            "Matrix Confusion: \n",
            " [[26793 10212  3160]\n",
            " [16306 21151  3872]\n",
            " [ 4037  2558  1911]]\n",
            "Accuracy: \n",
            " 0.5539444444444445\n"
          ]
        }
      ]
    },
    {
      "cell_type": "code",
      "source": [
        "### svm \n",
        "clf = SVC(C=1, kernel= 'linear', max_iter = 1000)\n",
        "clf.fit(train_data_features, y_train)\n",
        "\n",
        "print(\"-------SVM-------:\")\n",
        "print(\"-------kernel=linear-------\")\n",
        "print(\"-------Validation-------:\")\n",
        "Y_val_pred = clf.predict(val_data_features)\n",
        "analysis(y_val, Y_val_pred)\n",
        "\n",
        "print(\"-------Test-------:\")\n",
        "Y_test_pred = clf.predict(test_data_features)\n",
        "analysis(y_test, Y_test_pred)\n"
      ],
      "metadata": {
        "colab": {
          "base_uri": "https://localhost:8080/"
        },
        "id": "8cDxZQIONTz7",
        "outputId": "526d70d2-847d-4ed1-ff71-d406c9967bfe"
      },
      "execution_count": 38,
      "outputs": [
        {
          "output_type": "stream",
          "name": "stderr",
          "text": [
            "/usr/local/lib/python3.7/dist-packages/sklearn/svm/_base.py:289: ConvergenceWarning: Solver terminated early (max_iter=1000).  Consider pre-processing your data with StandardScaler or MinMaxScaler.\n",
            "  ConvergenceWarning,\n"
          ]
        },
        {
          "output_type": "stream",
          "name": "stdout",
          "text": [
            "-------SVM-------:\n",
            "-------kernel=linear-------\n",
            "-------Validation-------:\n",
            "Report Classification: \n",
            "               precision    recall  f1-score   support\n",
            "\n",
            "         Bug       0.54      0.57      0.56     20121\n",
            "     Feature       0.57      0.46      0.51     20684\n",
            "    Question       0.16      0.27      0.20      4195\n",
            "\n",
            "    accuracy                           0.49     45000\n",
            "   macro avg       0.42      0.43      0.42     45000\n",
            "weighted avg       0.52      0.49      0.50     45000\n",
            "\n",
            "Matrix Confusion: \n",
            " [[11535  5899  2687]\n",
            " [ 8101  9445  3138]\n",
            " [ 1781  1302  1112]]\n",
            "Accuracy: \n",
            " 0.49093333333333333\n",
            "-------Test-------:\n",
            "Report Classification: \n",
            "               precision    recall  f1-score   support\n",
            "\n",
            "         Bug       0.54      0.57      0.56     40165\n",
            "     Feature       0.56      0.45      0.50     41329\n",
            "    Question       0.16      0.26      0.20      8506\n",
            "\n",
            "    accuracy                           0.49     90000\n",
            "   macro avg       0.42      0.43      0.42     90000\n",
            "weighted avg       0.51      0.49      0.50     90000\n",
            "\n",
            "Matrix Confusion: \n",
            " [[23041 11621  5503]\n",
            " [16182 18564  6583]\n",
            " [ 3557  2698  2251]]\n",
            "Accuracy: \n",
            " 0.4872888888888889\n"
          ]
        }
      ]
    },
    {
      "cell_type": "code",
      "source": [
        "### svm \n",
        "clf = SVC(C=1, kernel= 'poly', max_iter = 1000)\n",
        "clf.fit(train_data_features, y_train)\n",
        "\n",
        "print(\"-------SVM-------:\")\n",
        "print(\"-------kernel=poly-------\")\n",
        "print(\"-------Validation-------:\")\n",
        "Y_val_pred = clf.predict(val_data_features)\n",
        "analysis(y_val, Y_val_pred)\n",
        "\n",
        "print(\"-------Test-------:\")\n",
        "Y_test_pred = clf.predict(test_data_features)\n",
        "analysis(y_test, Y_test_pred)\n"
      ],
      "metadata": {
        "colab": {
          "base_uri": "https://localhost:8080/"
        },
        "id": "meCX73OSNi2r",
        "outputId": "8868ecca-00d1-48a1-b97d-808fe3913588"
      },
      "execution_count": 40,
      "outputs": [
        {
          "output_type": "stream",
          "name": "stderr",
          "text": [
            "/usr/local/lib/python3.7/dist-packages/sklearn/svm/_base.py:289: ConvergenceWarning: Solver terminated early (max_iter=1000).  Consider pre-processing your data with StandardScaler or MinMaxScaler.\n",
            "  ConvergenceWarning,\n"
          ]
        },
        {
          "output_type": "stream",
          "name": "stdout",
          "text": [
            "-------SVM-------:\n",
            "-------kernel=poly-------\n",
            "-------Validation-------:\n",
            "Report Classification: \n",
            "               precision    recall  f1-score   support\n",
            "\n",
            "         Bug       0.47      0.92      0.63     20121\n",
            "     Feature       0.70      0.16      0.26     20684\n",
            "    Question       0.22      0.06      0.10      4195\n",
            "\n",
            "    accuracy                           0.49     45000\n",
            "   macro avg       0.46      0.38      0.33     45000\n",
            "weighted avg       0.55      0.49      0.41     45000\n",
            "\n",
            "Matrix Confusion: \n",
            " [[18532  1166   423]\n",
            " [16885  3292   507]\n",
            " [ 3660   276   259]]\n",
            "Accuracy: \n",
            " 0.49073333333333335\n",
            "-------Test-------:\n",
            "Report Classification: \n",
            "               precision    recall  f1-score   support\n",
            "\n",
            "         Bug       0.47      0.92      0.62     40165\n",
            "     Feature       0.69      0.16      0.26     41329\n",
            "    Question       0.19      0.06      0.09      8506\n",
            "\n",
            "    accuracy                           0.49     90000\n",
            "   macro avg       0.45      0.38      0.32     90000\n",
            "weighted avg       0.55      0.49      0.41     90000\n",
            "\n",
            "Matrix Confusion: \n",
            " [[36875  2349   941]\n",
            " [33664  6633  1032]\n",
            " [ 7431   605   470]]\n",
            "Accuracy: \n",
            " 0.48864444444444444\n"
          ]
        }
      ]
    },
    {
      "cell_type": "markdown",
      "source": [
        "## Lower Case + Stop Words"
      ],
      "metadata": {
        "id": "v2RPupSdVwRG"
      }
    },
    {
      "cell_type": "markdown",
      "source": [
        "### Split Data"
      ],
      "metadata": {
        "id": "tB8AsIuFVwRH"
      }
    },
    {
      "cell_type": "code",
      "source": [
        "label_encoder = LabelEncoder()\n",
        "\n",
        "X = data_df['text_clean_lowercase_stopwords'].values\n",
        "y = label_encoder.fit_transform(data_df['label'])"
      ],
      "metadata": {
        "id": "ZhoN8vWdVwRH"
      },
      "execution_count": 41,
      "outputs": []
    },
    {
      "cell_type": "code",
      "source": [
        "X_train, X_test, y_train, y_test  = train_test_split(X, y, test_size=0.2, random_state=1)\n",
        "X_train, X_val, y_train, y_val = train_test_split(X_train, y_train, test_size=0.125, random_state=1) # 0.125 x 0.8 = 0.1\n"
      ],
      "metadata": {
        "id": "ZMMpog6aVwRH"
      },
      "execution_count": 42,
      "outputs": []
    },
    {
      "cell_type": "markdown",
      "source": [
        "### TFIDF"
      ],
      "metadata": {
        "id": "STGlG1_EVwRH"
      }
    },
    {
      "cell_type": "code",
      "source": [
        "vectorizer = TfidfVectorizer(min_df=1, ngram_range = (1,1), max_features=12000)\n",
        "train_data_features = vectorizer.fit_transform(X_train)\n",
        "print(train_data_features.shape)"
      ],
      "metadata": {
        "colab": {
          "base_uri": "https://localhost:8080/"
        },
        "outputId": "31184bee-70a7-47c3-f605-71c5baa594a3",
        "id": "Ate3SuT7VwRI"
      },
      "execution_count": 43,
      "outputs": [
        {
          "output_type": "stream",
          "name": "stdout",
          "text": [
            "(315000, 12000)\n"
          ]
        }
      ]
    },
    {
      "cell_type": "code",
      "source": [
        "val_data_features = vectorizer.transform(X_val)\n",
        "test_data_features = vectorizer.transform(X_test)\n",
        "vectorizer.get_feature_names()[200:210]"
      ],
      "metadata": {
        "colab": {
          "base_uri": "https://localhost:8080/"
        },
        "outputId": "f0e31c64-e420-4264-ee1e-fcf249b3341a",
        "id": "02XLs0vNVwRI"
      },
      "execution_count": 44,
      "outputs": [
        {
          "output_type": "stream",
          "name": "stderr",
          "text": [
            "/usr/local/lib/python3.7/dist-packages/sklearn/utils/deprecation.py:87: FutureWarning: Function get_feature_names is deprecated; get_feature_names is deprecated in 1.0 and will be removed in 1.2. Please use get_feature_names_out instead.\n",
            "  warnings.warn(msg, category=FutureWarning)\n"
          ]
        },
        {
          "output_type": "execute_result",
          "data": {
            "text/plain": [
              "['af',\n",
              " 'afaict',\n",
              " 'afaik',\n",
              " 'affect',\n",
              " 'affected',\n",
              " 'affecting',\n",
              " 'affects',\n",
              " 'affiliate',\n",
              " 'affiliated',\n",
              " 'affiliation']"
            ]
          },
          "metadata": {},
          "execution_count": 44
        }
      ]
    },
    {
      "cell_type": "markdown",
      "source": [
        "### Model"
      ],
      "metadata": {
        "id": "wXSte5gdVwRI"
      }
    },
    {
      "cell_type": "markdown",
      "source": [
        "#### Logistic Regression"
      ],
      "metadata": {
        "id": "8VWXOb0HVwRI"
      }
    },
    {
      "cell_type": "code",
      "source": [
        "### logistic regression\n",
        "\n",
        "clf = LogisticRegression(C=1, penalty = 'l2', random_state=0, solver='liblinear', max_iter=1000, multi_class='ovr')\n",
        "\n",
        "clf.fit(train_data_features, y_train)\n",
        "\n",
        "print(\"-------LR-------:\")\n",
        "print(\"-------C=1-------\")\n",
        "print(\"-------Validation-------:\")\n",
        "Y_val_pred = clf.predict(val_data_features)\n",
        "analysis(y_val, Y_val_pred)\n",
        "\n",
        "print(\"-------Test-------:\")\n",
        "Y_test_pred = clf.predict(test_data_features)\n",
        "analysis(y_test, Y_test_pred)\n"
      ],
      "metadata": {
        "colab": {
          "base_uri": "https://localhost:8080/"
        },
        "outputId": "4686194c-1dfd-4c90-9457-1161ba122984",
        "id": "2le7cHkqVwRJ"
      },
      "execution_count": 45,
      "outputs": [
        {
          "output_type": "stream",
          "name": "stdout",
          "text": [
            "-------LR-------:\n",
            "-------C=1-------\n",
            "-------Validation-------:\n",
            "Report Classification: \n",
            "               precision    recall  f1-score   support\n",
            "\n",
            "         Bug       0.78      0.83      0.80     20121\n",
            "     Feature       0.78      0.83      0.80     20684\n",
            "    Question       0.64      0.22      0.33      4195\n",
            "\n",
            "    accuracy                           0.77     45000\n",
            "   macro avg       0.73      0.63      0.65     45000\n",
            "weighted avg       0.76      0.77      0.76     45000\n",
            "\n",
            "Matrix Confusion: \n",
            " [[16662  3213   246]\n",
            " [ 3198 17199   287]\n",
            " [ 1491  1772   932]]\n",
            "Accuracy: \n",
            " 0.7731777777777777\n",
            "-------Test-------:\n",
            "Report Classification: \n",
            "               precision    recall  f1-score   support\n",
            "\n",
            "         Bug       0.78      0.83      0.80     40165\n",
            "     Feature       0.77      0.83      0.80     41329\n",
            "    Question       0.62      0.21      0.32      8506\n",
            "\n",
            "    accuracy                           0.77     90000\n",
            "   macro avg       0.72      0.62      0.64     90000\n",
            "weighted avg       0.76      0.77      0.75     90000\n",
            "\n",
            "Matrix Confusion: \n",
            " [[33285  6402   478]\n",
            " [ 6530 34180   619]\n",
            " [ 3106  3576  1824]]\n",
            "Accuracy: \n",
            " 0.7698777777777778\n"
          ]
        }
      ]
    },
    {
      "cell_type": "markdown",
      "source": [
        "#### SVM "
      ],
      "metadata": {
        "id": "9-KXFrntVwRJ"
      }
    },
    {
      "cell_type": "code",
      "source": [
        "### svm \n",
        "clf = SVC(C=1, kernel= 'rbf', max_iter = 1000)\n",
        "clf.fit(train_data_features, y_train)\n",
        "\n",
        "print(\"-------SVM-------:\")\n",
        "print(\"-------kernel=rbf-------\")\n",
        "print(\"-------Validation-------:\")\n",
        "Y_val_pred = clf.predict(val_data_features)\n",
        "analysis(y_val, Y_val_pred)\n",
        "\n",
        "print(\"-------Test-------:\")\n",
        "Y_test_pred = clf.predict(test_data_features)\n",
        "analysis(y_test, Y_test_pred)\n"
      ],
      "metadata": {
        "colab": {
          "base_uri": "https://localhost:8080/"
        },
        "outputId": "018bad30-9255-460f-af0b-126eb9a8603c",
        "id": "1uT8r6MHVwRJ"
      },
      "execution_count": 46,
      "outputs": [
        {
          "output_type": "stream",
          "name": "stderr",
          "text": [
            "/usr/local/lib/python3.7/dist-packages/sklearn/svm/_base.py:289: ConvergenceWarning: Solver terminated early (max_iter=1000).  Consider pre-processing your data with StandardScaler or MinMaxScaler.\n",
            "  ConvergenceWarning,\n"
          ]
        },
        {
          "output_type": "stream",
          "name": "stdout",
          "text": [
            "-------SVM-------:\n",
            "-------kernel=rbf-------\n",
            "-------Validation-------:\n",
            "Report Classification: \n",
            "               precision    recall  f1-score   support\n",
            "\n",
            "         Bug       0.57      0.69      0.62     20121\n",
            "     Feature       0.63      0.51      0.57     20684\n",
            "    Question       0.20      0.16      0.18      4195\n",
            "\n",
            "    accuracy                           0.56     45000\n",
            "   macro avg       0.47      0.46      0.46     45000\n",
            "weighted avg       0.56      0.56      0.56     45000\n",
            "\n",
            "Matrix Confusion: \n",
            " [[13980  4774  1367]\n",
            " [ 8693 10644  1347]\n",
            " [ 2063  1454   678]]\n",
            "Accuracy: \n",
            " 0.5622666666666667\n",
            "-------Test-------:\n",
            "Report Classification: \n",
            "               precision    recall  f1-score   support\n",
            "\n",
            "         Bug       0.56      0.69      0.62     40165\n",
            "     Feature       0.63      0.51      0.57     41329\n",
            "    Question       0.21      0.17      0.19      8506\n",
            "\n",
            "    accuracy                           0.56     90000\n",
            "   macro avg       0.47      0.46      0.46     90000\n",
            "weighted avg       0.56      0.56      0.56     90000\n",
            "\n",
            "Matrix Confusion: \n",
            " [[27889  9630  2646]\n",
            " [17339 21204  2786]\n",
            " [ 4234  2838  1434]]\n",
            "Accuracy: \n",
            " 0.5614111111111111\n"
          ]
        }
      ]
    },
    {
      "cell_type": "markdown",
      "source": [
        "## Lower Case"
      ],
      "metadata": {
        "id": "XhFQuYjkXpF1"
      }
    },
    {
      "cell_type": "markdown",
      "source": [
        "### Split Data"
      ],
      "metadata": {
        "id": "Jz2fa9Y4XpF-"
      }
    },
    {
      "cell_type": "code",
      "source": [
        "label_encoder = LabelEncoder()\n",
        "\n",
        "X = data_df['text_clean_lowercase'].values\n",
        "y = label_encoder.fit_transform(data_df['label'])"
      ],
      "metadata": {
        "id": "eUtSodHGXpF-"
      },
      "execution_count": 47,
      "outputs": []
    },
    {
      "cell_type": "code",
      "source": [
        "X_train, X_test, y_train, y_test  = train_test_split(X, y, test_size=0.2, random_state=1)\n",
        "X_train, X_val, y_train, y_val = train_test_split(X_train, y_train, test_size=0.125, random_state=1) # 0.125 x 0.8 = 0.1\n"
      ],
      "metadata": {
        "id": "ib4zRvtUXpF-"
      },
      "execution_count": 48,
      "outputs": []
    },
    {
      "cell_type": "markdown",
      "source": [
        "### TFIDF"
      ],
      "metadata": {
        "id": "hV7SoNAuXpF_"
      }
    },
    {
      "cell_type": "code",
      "source": [
        "vectorizer = TfidfVectorizer(min_df=1, ngram_range = (1,1), max_features=12000)\n",
        "train_data_features = vectorizer.fit_transform(X_train)\n",
        "print(train_data_features.shape)"
      ],
      "metadata": {
        "colab": {
          "base_uri": "https://localhost:8080/"
        },
        "outputId": "4fa04e8b-20f7-4d87-aa89-455c5c7da144",
        "id": "26sQhphaXpF_"
      },
      "execution_count": 49,
      "outputs": [
        {
          "output_type": "stream",
          "name": "stdout",
          "text": [
            "(315000, 12000)\n"
          ]
        }
      ]
    },
    {
      "cell_type": "code",
      "source": [
        "val_data_features = vectorizer.transform(X_val)\n",
        "test_data_features = vectorizer.transform(X_test)\n",
        "vectorizer.get_feature_names()[200:210]"
      ],
      "metadata": {
        "colab": {
          "base_uri": "https://localhost:8080/"
        },
        "outputId": "efd04a39-1808-4b5b-c6d0-56a6de36112b",
        "id": "pwFGTlKOXpF_"
      },
      "execution_count": 50,
      "outputs": [
        {
          "output_type": "stream",
          "name": "stderr",
          "text": [
            "/usr/local/lib/python3.7/dist-packages/sklearn/utils/deprecation.py:87: FutureWarning: Function get_feature_names is deprecated; get_feature_names is deprecated in 1.0 and will be removed in 1.2. Please use get_feature_names_out instead.\n",
            "  warnings.warn(msg, category=FutureWarning)\n"
          ]
        },
        {
          "output_type": "execute_result",
          "data": {
            "text/plain": [
              "['afaict',\n",
              " 'afaik',\n",
              " 'affect',\n",
              " 'affected',\n",
              " 'affecting',\n",
              " 'affects',\n",
              " 'affiliate',\n",
              " 'affiliated',\n",
              " 'affiliation',\n",
              " 'affinity']"
            ]
          },
          "metadata": {},
          "execution_count": 50
        }
      ]
    },
    {
      "cell_type": "markdown",
      "source": [
        "### Model"
      ],
      "metadata": {
        "id": "7plOj821XpF_"
      }
    },
    {
      "cell_type": "markdown",
      "source": [
        "#### Logistic Regression"
      ],
      "metadata": {
        "id": "Dsjm_jIRXpGA"
      }
    },
    {
      "cell_type": "code",
      "source": [
        "### logistic regression\n",
        "\n",
        "clf = LogisticRegression(C=1, penalty = 'l2', random_state=0, solver='liblinear', max_iter=1000, multi_class='ovr')\n",
        "\n",
        "clf.fit(train_data_features, y_train)\n",
        "\n",
        "print(\"-------LR-------:\")\n",
        "print(\"-------C=1-------\")\n",
        "print(\"-------Validation-------:\")\n",
        "Y_val_pred = clf.predict(val_data_features)\n",
        "analysis(y_val, Y_val_pred)\n",
        "\n",
        "print(\"-------Test-------:\")\n",
        "Y_test_pred = clf.predict(test_data_features)\n",
        "analysis(y_test, Y_test_pred)\n"
      ],
      "metadata": {
        "colab": {
          "base_uri": "https://localhost:8080/"
        },
        "outputId": "4afd5770-a7a5-4b1c-8a16-63c7e7293306",
        "id": "3R7b9xNPXpGA"
      },
      "execution_count": 51,
      "outputs": [
        {
          "output_type": "stream",
          "name": "stdout",
          "text": [
            "-------LR-------:\n",
            "-------C=1-------\n",
            "-------Validation-------:\n",
            "Report Classification: \n",
            "               precision    recall  f1-score   support\n",
            "\n",
            "         Bug       0.80      0.84      0.82     20121\n",
            "     Feature       0.79      0.84      0.81     20684\n",
            "    Question       0.66      0.29      0.40      4195\n",
            "\n",
            "    accuracy                           0.79     45000\n",
            "   macro avg       0.75      0.66      0.68     45000\n",
            "weighted avg       0.78      0.79      0.78     45000\n",
            "\n",
            "Matrix Confusion: \n",
            " [[16932  2912   277]\n",
            " [ 2998 17338   348]\n",
            " [ 1364  1629  1202]]\n",
            "Accuracy: \n",
            " 0.7882666666666667\n",
            "-------Test-------:\n",
            "Report Classification: \n",
            "               precision    recall  f1-score   support\n",
            "\n",
            "         Bug       0.79      0.84      0.82     40165\n",
            "     Feature       0.79      0.83      0.81     41329\n",
            "    Question       0.65      0.29      0.40      8506\n",
            "\n",
            "    accuracy                           0.79     90000\n",
            "   macro avg       0.75      0.66      0.68     90000\n",
            "weighted avg       0.78      0.79      0.78     90000\n",
            "\n",
            "Matrix Confusion: \n",
            " [[33810  5823   532]\n",
            " [ 6085 34467   777]\n",
            " [ 2865  3177  2464]]\n",
            "Accuracy: \n",
            " 0.7860111111111111\n"
          ]
        }
      ]
    },
    {
      "cell_type": "markdown",
      "source": [
        "#### SVM "
      ],
      "metadata": {
        "id": "aZLY42EYXpGA"
      }
    },
    {
      "cell_type": "code",
      "source": [
        "### svm \n",
        "clf = SVC(C=1, kernel= 'rbf', max_iter = 1000)\n",
        "clf.fit(train_data_features, y_train)\n",
        "\n",
        "print(\"-------SVM-------:\")\n",
        "print(\"-------kernel=rbf-------\")\n",
        "print(\"-------Validation-------:\")\n",
        "Y_val_pred = clf.predict(val_data_features)\n",
        "analysis(y_val, Y_val_pred)\n",
        "\n",
        "print(\"-------Test-------:\")\n",
        "Y_test_pred = clf.predict(test_data_features)\n",
        "analysis(y_test, Y_test_pred)\n"
      ],
      "metadata": {
        "colab": {
          "base_uri": "https://localhost:8080/"
        },
        "id": "iB3bWca6XpGA",
        "outputId": "1a1415c1-82b9-422c-a372-5f029ea7ca03"
      },
      "execution_count": 52,
      "outputs": [
        {
          "output_type": "stream",
          "name": "stderr",
          "text": [
            "/usr/local/lib/python3.7/dist-packages/sklearn/svm/_base.py:289: ConvergenceWarning: Solver terminated early (max_iter=1000).  Consider pre-processing your data with StandardScaler or MinMaxScaler.\n",
            "  ConvergenceWarning,\n"
          ]
        },
        {
          "output_type": "stream",
          "name": "stdout",
          "text": [
            "-------SVM-------:\n",
            "-------kernel=rbf-------\n",
            "-------Validation-------:\n",
            "Report Classification: \n",
            "               precision    recall  f1-score   support\n",
            "\n",
            "         Bug       0.48      0.90      0.63     20121\n",
            "     Feature       0.82      0.12      0.21     20684\n",
            "    Question       0.24      0.24      0.24      4195\n",
            "\n",
            "    accuracy                           0.48     45000\n",
            "   macro avg       0.51      0.42      0.36     45000\n",
            "weighted avg       0.61      0.48      0.40     45000\n",
            "\n",
            "Matrix Confusion: \n",
            " [[18156   383  1582]\n",
            " [16494  2546  1644]\n",
            " [ 3000   178  1017]]\n",
            "Accuracy: \n",
            " 0.48264444444444443\n",
            "-------Test-------:\n",
            "Report Classification: \n",
            "               precision    recall  f1-score   support\n",
            "\n",
            "         Bug       0.48      0.90      0.63     40165\n",
            "     Feature       0.81      0.12      0.21     41329\n",
            "    Question       0.23      0.24      0.23      8506\n",
            "\n",
            "    accuracy                           0.48     90000\n",
            "   macro avg       0.51      0.42      0.36     90000\n",
            "weighted avg       0.61      0.48      0.40     90000\n",
            "\n",
            "Matrix Confusion: \n",
            " [[36129   797  3239]\n",
            " [32840  5078  3411]\n",
            " [ 6103   397  2006]]\n",
            "Accuracy: \n",
            " 0.48014444444444443\n"
          ]
        }
      ]
    },
    {
      "cell_type": "markdown",
      "source": [
        "## Simple Preprocessing"
      ],
      "metadata": {
        "id": "m_979EbpYK0w"
      }
    },
    {
      "cell_type": "markdown",
      "source": [
        "### Split Data"
      ],
      "metadata": {
        "id": "Oj74BB0eYK0w"
      }
    },
    {
      "cell_type": "code",
      "source": [
        "label_encoder = LabelEncoder()\n",
        "\n",
        "X = data_df['text_clean'].values\n",
        "y = label_encoder.fit_transform(data_df['label'])"
      ],
      "metadata": {
        "id": "jv44TISkYK0w"
      },
      "execution_count": 53,
      "outputs": []
    },
    {
      "cell_type": "code",
      "source": [
        "X_train, X_test, y_train, y_test  = train_test_split(X, y, test_size=0.2, random_state=1)\n",
        "X_train, X_val, y_train, y_val = train_test_split(X_train, y_train, test_size=0.125, random_state=1) # 0.125 x 0.8 = 0.1\n"
      ],
      "metadata": {
        "id": "mjY7fsygYK0x"
      },
      "execution_count": 54,
      "outputs": []
    },
    {
      "cell_type": "markdown",
      "source": [
        "### TFIDF"
      ],
      "metadata": {
        "id": "9qlJO5VVYK0x"
      }
    },
    {
      "cell_type": "code",
      "source": [
        "vectorizer = TfidfVectorizer(min_df=1, ngram_range = (1,1), max_features=12000)\n",
        "train_data_features = vectorizer.fit_transform(X_train)\n",
        "print(train_data_features.shape)"
      ],
      "metadata": {
        "colab": {
          "base_uri": "https://localhost:8080/"
        },
        "outputId": "9a973de7-9ae1-4870-b066-a1789a08976e",
        "id": "BqhJdF7qYK0y"
      },
      "execution_count": 55,
      "outputs": [
        {
          "output_type": "stream",
          "name": "stdout",
          "text": [
            "(315000, 12000)\n"
          ]
        }
      ]
    },
    {
      "cell_type": "code",
      "source": [
        "val_data_features = vectorizer.transform(X_val)\n",
        "test_data_features = vectorizer.transform(X_test)\n",
        "vectorizer.get_feature_names()[200:210]"
      ],
      "metadata": {
        "colab": {
          "base_uri": "https://localhost:8080/"
        },
        "outputId": "13309178-19aa-4933-f4d4-23de5ecc2fe7",
        "id": "jLocMM6CYK0z"
      },
      "execution_count": 56,
      "outputs": [
        {
          "output_type": "stream",
          "name": "stderr",
          "text": [
            "/usr/local/lib/python3.7/dist-packages/sklearn/utils/deprecation.py:87: FutureWarning: Function get_feature_names is deprecated; get_feature_names is deprecated in 1.0 and will be removed in 1.2. Please use get_feature_names_out instead.\n",
            "  warnings.warn(msg, category=FutureWarning)\n"
          ]
        },
        {
          "output_type": "execute_result",
          "data": {
            "text/plain": [
              "['afaict',\n",
              " 'afaik',\n",
              " 'affect',\n",
              " 'affected',\n",
              " 'affecting',\n",
              " 'affects',\n",
              " 'affiliate',\n",
              " 'affiliated',\n",
              " 'affiliation',\n",
              " 'affinity']"
            ]
          },
          "metadata": {},
          "execution_count": 56
        }
      ]
    },
    {
      "cell_type": "markdown",
      "source": [
        "### Model"
      ],
      "metadata": {
        "id": "xOlCO8bpYK0z"
      }
    },
    {
      "cell_type": "markdown",
      "source": [
        "#### Logistic Regression"
      ],
      "metadata": {
        "id": "O7Uv1GgZYK0z"
      }
    },
    {
      "cell_type": "code",
      "source": [
        "### logistic regression\n",
        "\n",
        "clf = LogisticRegression(C=1, penalty = 'l2', random_state=0, solver='liblinear', max_iter=1000, multi_class='ovr')\n",
        "\n",
        "clf.fit(train_data_features, y_train)\n",
        "\n",
        "print(\"-------LR-------:\")\n",
        "print(\"-------C=1-------\")\n",
        "print(\"-------Validation-------:\")\n",
        "Y_val_pred = clf.predict(val_data_features)\n",
        "analysis(y_val, Y_val_pred)\n",
        "\n",
        "print(\"-------Test-------:\")\n",
        "Y_test_pred = clf.predict(test_data_features)\n",
        "analysis(y_test, Y_test_pred)\n"
      ],
      "metadata": {
        "colab": {
          "base_uri": "https://localhost:8080/"
        },
        "outputId": "abe35d7b-605c-4db0-8068-8ce24cb86186",
        "id": "c9n16J4kYK0z"
      },
      "execution_count": 57,
      "outputs": [
        {
          "output_type": "stream",
          "name": "stdout",
          "text": [
            "-------LR-------:\n",
            "-------C=1-------\n",
            "-------Validation-------:\n",
            "Report Classification: \n",
            "               precision    recall  f1-score   support\n",
            "\n",
            "         Bug       0.80      0.84      0.82     20121\n",
            "     Feature       0.79      0.84      0.81     20684\n",
            "    Question       0.66      0.29      0.40      4195\n",
            "\n",
            "    accuracy                           0.79     45000\n",
            "   macro avg       0.75      0.66      0.68     45000\n",
            "weighted avg       0.78      0.79      0.78     45000\n",
            "\n",
            "Matrix Confusion: \n",
            " [[16932  2912   277]\n",
            " [ 2998 17338   348]\n",
            " [ 1364  1629  1202]]\n",
            "Accuracy: \n",
            " 0.7882666666666667\n",
            "-------Test-------:\n",
            "Report Classification: \n",
            "               precision    recall  f1-score   support\n",
            "\n",
            "         Bug       0.79      0.84      0.82     40165\n",
            "     Feature       0.79      0.83      0.81     41329\n",
            "    Question       0.65      0.29      0.40      8506\n",
            "\n",
            "    accuracy                           0.79     90000\n",
            "   macro avg       0.75      0.66      0.68     90000\n",
            "weighted avg       0.78      0.79      0.78     90000\n",
            "\n",
            "Matrix Confusion: \n",
            " [[33810  5823   532]\n",
            " [ 6085 34467   777]\n",
            " [ 2865  3177  2464]]\n",
            "Accuracy: \n",
            " 0.7860111111111111\n"
          ]
        }
      ]
    },
    {
      "cell_type": "markdown",
      "source": [
        "#### SVM "
      ],
      "metadata": {
        "id": "oVU2JB5PYK0z"
      }
    },
    {
      "cell_type": "code",
      "source": [
        "### svm \n",
        "clf = SVC(C=1, kernel= 'rbf', max_iter = 1000)\n",
        "clf.fit(train_data_features, y_train)\n",
        "\n",
        "print(\"-------SVM-------:\")\n",
        "print(\"-------kernel=rbf-------\")\n",
        "print(\"-------Validation-------:\")\n",
        "Y_val_pred = clf.predict(val_data_features)\n",
        "analysis(y_val, Y_val_pred)\n",
        "\n",
        "print(\"-------Test-------:\")\n",
        "Y_test_pred = clf.predict(test_data_features)\n",
        "analysis(y_test, Y_test_pred)\n"
      ],
      "metadata": {
        "colab": {
          "base_uri": "https://localhost:8080/"
        },
        "id": "shalbibyYK00",
        "outputId": "94a6abe6-a369-4872-d48b-b5d184c57e7c"
      },
      "execution_count": 58,
      "outputs": [
        {
          "output_type": "stream",
          "name": "stderr",
          "text": [
            "/usr/local/lib/python3.7/dist-packages/sklearn/svm/_base.py:289: ConvergenceWarning: Solver terminated early (max_iter=1000).  Consider pre-processing your data with StandardScaler or MinMaxScaler.\n",
            "  ConvergenceWarning,\n"
          ]
        },
        {
          "output_type": "stream",
          "name": "stdout",
          "text": [
            "-------SVM-------:\n",
            "-------kernel=rbf-------\n",
            "-------Validation-------:\n",
            "Report Classification: \n",
            "               precision    recall  f1-score   support\n",
            "\n",
            "         Bug       0.48      0.90      0.63     20121\n",
            "     Feature       0.82      0.12      0.21     20684\n",
            "    Question       0.24      0.24      0.24      4195\n",
            "\n",
            "    accuracy                           0.48     45000\n",
            "   macro avg       0.51      0.42      0.36     45000\n",
            "weighted avg       0.61      0.48      0.40     45000\n",
            "\n",
            "Matrix Confusion: \n",
            " [[18156   383  1582]\n",
            " [16494  2546  1644]\n",
            " [ 3000   178  1017]]\n",
            "Accuracy: \n",
            " 0.48264444444444443\n",
            "-------Test-------:\n",
            "Report Classification: \n",
            "               precision    recall  f1-score   support\n",
            "\n",
            "         Bug       0.48      0.90      0.63     40165\n",
            "     Feature       0.81      0.12      0.21     41329\n",
            "    Question       0.23      0.24      0.23      8506\n",
            "\n",
            "    accuracy                           0.48     90000\n",
            "   macro avg       0.51      0.42      0.36     90000\n",
            "weighted avg       0.61      0.48      0.40     90000\n",
            "\n",
            "Matrix Confusion: \n",
            " [[36129   797  3239]\n",
            " [32840  5078  3411]\n",
            " [ 6103   397  2006]]\n",
            "Accuracy: \n",
            " 0.48014444444444443\n"
          ]
        }
      ]
    },
    {
      "cell_type": "markdown",
      "source": [
        "## Final Models with more max runs"
      ],
      "metadata": {
        "id": "oyywLLklioRd"
      }
    },
    {
      "cell_type": "code",
      "source": [
        "label_encoder = LabelEncoder()\n",
        "\n",
        "X = data_df['text_clean_lowercase_stopwords'].values\n",
        "y = label_encoder.fit_transform(data_df['label'])\n",
        "\n",
        "X_train, X_test, y_train, y_test  = train_test_split(X, y, test_size=0.2, random_state=1)\n",
        "X_train, X_val, y_train, y_val = train_test_split(X_train, y_train, test_size=0.125, random_state=1) # 0.125 x 0.8 = 0.1\n",
        "vectorizer = TfidfVectorizer(min_df=1, ngram_range = (1,1), max_features=12000)\n",
        "train_data_features = vectorizer.fit_transform(X_train)\n",
        "print(train_data_features.shape)\n",
        "val_data_features = vectorizer.transform(X_val)\n",
        "test_data_features = vectorizer.transform(X_test)"
      ],
      "metadata": {
        "id": "40GWaaXiioRn"
      },
      "execution_count": 60,
      "outputs": []
    },
    {
      "cell_type": "markdown",
      "source": [
        "#### SVM "
      ],
      "metadata": {
        "id": "ZW1KhX0SioRp"
      }
    },
    {
      "cell_type": "code",
      "source": [
        "### svm \n",
        "clf = SVC(C=1, kernel= 'rbf', max_iter = 10000)\n",
        "clf.fit(train_data_features, y_train)\n",
        "\n",
        "print(\"-------SVM-------:\")\n",
        "print(\"-------kernel=rbf-------\")\n",
        "print(\"-------Validation-------:\")\n",
        "Y_val_pred = clf.predict(val_data_features)\n",
        "analysis(y_val, Y_val_pred)\n",
        "\n",
        "print(\"-------Test-------:\")\n",
        "Y_test_pred = clf.predict(test_data_features)\n",
        "analysis(y_test, Y_test_pred)\n"
      ],
      "metadata": {
        "colab": {
          "base_uri": "https://localhost:8080/"
        },
        "outputId": "acd19f33-c56b-4b63-9833-342a8341f4d6",
        "id": "dKCdweO1ioRp"
      },
      "execution_count": 65,
      "outputs": [
        {
          "output_type": "stream",
          "name": "stderr",
          "text": [
            "/usr/local/lib/python3.7/dist-packages/sklearn/svm/_base.py:289: ConvergenceWarning: Solver terminated early (max_iter=10000).  Consider pre-processing your data with StandardScaler or MinMaxScaler.\n",
            "  ConvergenceWarning,\n"
          ]
        },
        {
          "output_type": "stream",
          "name": "stdout",
          "text": [
            "-------SVM-------:\n",
            "-------kernel=rbf-------\n",
            "-------Validation-------:\n",
            "Report Classification: \n",
            "               precision    recall  f1-score   support\n",
            "\n",
            "         Bug       0.66      0.67      0.66     20121\n",
            "     Feature       0.66      0.66      0.66     20684\n",
            "    Question       0.32      0.29      0.31      4195\n",
            "\n",
            "    accuracy                           0.63     45000\n",
            "   macro avg       0.55      0.54      0.54     45000\n",
            "weighted avg       0.63      0.63      0.63     45000\n",
            "\n",
            "Matrix Confusion: \n",
            " [[13566  5494  1061]\n",
            " [ 5597 13572  1515]\n",
            " [ 1530  1433  1232]]\n",
            "Accuracy: \n",
            " 0.6304444444444445\n",
            "-------Test-------:\n",
            "Report Classification: \n",
            "               precision    recall  f1-score   support\n",
            "\n",
            "         Bug       0.65      0.67      0.66     40165\n",
            "     Feature       0.66      0.65      0.66     41329\n",
            "    Question       0.31      0.29      0.30      8506\n",
            "\n",
            "    accuracy                           0.62     90000\n",
            "   macro avg       0.54      0.54      0.54     90000\n",
            "weighted avg       0.62      0.62      0.62     90000\n",
            "\n",
            "Matrix Confusion: \n",
            " [[26714 11218  2233]\n",
            " [11206 26986  3137]\n",
            " [ 3244  2806  2456]]\n",
            "Accuracy: \n",
            " 0.6239555555555556\n"
          ]
        }
      ]
    },
    {
      "cell_type": "code",
      "source": [
        "label_encoder = LabelEncoder()\n",
        "\n",
        "X = data_df['text_clean_lowercase'].values\n",
        "y = label_encoder.fit_transform(data_df['label'])\n",
        "\n",
        "X_train, X_test, y_train, y_test  = train_test_split(X, y, test_size=0.2, random_state=1)\n",
        "X_train, X_val, y_train, y_val = train_test_split(X_train, y_train, test_size=0.125, random_state=1) # 0.125 x 0.8 = 0.1\n",
        "\n",
        "vectorizer = TfidfVectorizer(min_df=1, ngram_range = (1,1), max_features=12000)\n",
        "train_data_features = vectorizer.fit_transform(X_train)\n",
        "\n",
        "val_data_features = vectorizer.transform(X_val)\n",
        "test_data_features = vectorizer.transform(X_test)"
      ],
      "metadata": {
        "id": "jMQQTNu0kPM8"
      },
      "execution_count": 66,
      "outputs": []
    },
    {
      "cell_type": "markdown",
      "source": [
        "#### Logistic Regression"
      ],
      "metadata": {
        "id": "liqQR71zkPNf"
      }
    },
    {
      "cell_type": "code",
      "source": [
        "### logistic regression\n",
        "\n",
        "clf = LogisticRegression(C=1, penalty = 'l2', random_state=0, solver='liblinear', max_iter=1000, multi_class='ovr')\n",
        "\n",
        "clf.fit(train_data_features, y_train)\n",
        "\n",
        "print(\"-------LR-------:\")\n",
        "print(\"-------C=1-------\")\n",
        "print(\"-------Validation-------:\")\n",
        "Y_val_pred = clf.predict(val_data_features)\n",
        "analysis(y_val, Y_val_pred)\n",
        "\n",
        "print(\"-------Test-------:\")\n",
        "Y_test_pred = clf.predict(test_data_features)\n",
        "analysis(y_test, Y_test_pred)\n"
      ],
      "metadata": {
        "colab": {
          "base_uri": "https://localhost:8080/"
        },
        "outputId": "a7c1ba6d-d9ea-4402-8896-8e13df67e0aa",
        "id": "YA_TyA0NkPNf"
      },
      "execution_count": 67,
      "outputs": [
        {
          "output_type": "stream",
          "name": "stdout",
          "text": [
            "-------LR-------:\n",
            "-------C=1-------\n",
            "-------Validation-------:\n",
            "Report Classification: \n",
            "               precision    recall  f1-score   support\n",
            "\n",
            "         Bug       0.80      0.84      0.82     20121\n",
            "     Feature       0.79      0.84      0.81     20684\n",
            "    Question       0.66      0.29      0.40      4195\n",
            "\n",
            "    accuracy                           0.79     45000\n",
            "   macro avg       0.75      0.66      0.68     45000\n",
            "weighted avg       0.78      0.79      0.78     45000\n",
            "\n",
            "Matrix Confusion: \n",
            " [[16932  2912   277]\n",
            " [ 2998 17338   348]\n",
            " [ 1364  1629  1202]]\n",
            "Accuracy: \n",
            " 0.7882666666666667\n",
            "-------Test-------:\n",
            "Report Classification: \n",
            "               precision    recall  f1-score   support\n",
            "\n",
            "         Bug       0.79      0.84      0.82     40165\n",
            "     Feature       0.79      0.83      0.81     41329\n",
            "    Question       0.65      0.29      0.40      8506\n",
            "\n",
            "    accuracy                           0.79     90000\n",
            "   macro avg       0.75      0.66      0.68     90000\n",
            "weighted avg       0.78      0.79      0.78     90000\n",
            "\n",
            "Matrix Confusion: \n",
            " [[33810  5823   532]\n",
            " [ 6085 34467   777]\n",
            " [ 2865  3177  2464]]\n",
            "Accuracy: \n",
            " 0.7860111111111111\n"
          ]
        }
      ]
    }
  ]
}