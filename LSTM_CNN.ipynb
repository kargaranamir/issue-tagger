{
  "cells": [
    {
      "cell_type": "markdown",
      "metadata": {
        "id": "view-in-github",
        "colab_type": "text"
      },
      "source": [
        "<a href=\"https://colab.research.google.com/github/kargaranamir/issue-tagger/blob/main/LSTM_CNN.ipynb\" target=\"_parent\"><img src=\"https://colab.research.google.com/assets/colab-badge.svg\" alt=\"Open In Colab\"/></a>"
      ]
    },
    {
      "cell_type": "code",
      "source": [
        "## Data Download\n",
        "\n",
        "! wget https://machinehack-be.s3.amazonaws.com/predict_github_issues_embold_sponsored_hackathon/Embold_Participant%27s_Dataset.zip -O data.zip\n",
        "! unzip ./data.zip \n",
        "! mv ./Embold_Participant\\'s_Dataset ./data\n",
        "! rm -rf ./data/sample\\ submission.csv\n",
        "! rm -rf ./data/embold_test.json"
      ],
      "metadata": {
        "id": "Bk6OiGPFudyh"
      },
      "id": "Bk6OiGPFudyh",
      "execution_count": null,
      "outputs": []
    },
    {
      "cell_type": "code",
      "source": [
        "# install fasttext\n",
        "! pip install fasttext"
      ],
      "metadata": {
        "id": "DTKXZusSQNl1"
      },
      "id": "DTKXZusSQNl1",
      "execution_count": null,
      "outputs": []
    },
    {
      "cell_type": "markdown",
      "source": [
        "### Import Libraries"
      ],
      "metadata": {
        "id": "I0YkX5CXepfi"
      },
      "id": "I0YkX5CXepfi"
    },
    {
      "cell_type": "code",
      "execution_count": 3,
      "id": "07ab578b-d556-407c-a357-77c15b17be3b",
      "metadata": {
        "id": "07ab578b-d556-407c-a357-77c15b17be3b",
        "colab": {
          "base_uri": "https://localhost:8080/"
        },
        "outputId": "169b5562-934f-4dba-9a4d-6ca8097ca2b5"
      },
      "outputs": [
        {
          "output_type": "stream",
          "name": "stdout",
          "text": [
            "[nltk_data] Downloading package stopwords to /root/nltk_data...\n",
            "[nltk_data]   Unzipping corpora/stopwords.zip.\n"
          ]
        }
      ],
      "source": [
        "import matplotlib.pyplot as plt\n",
        "import seaborn as sns\n",
        "import tensorflow as tf \n",
        "\n",
        "from tensorflow.keras.preprocessing.sequence import pad_sequences\n",
        "\n",
        "from tensorflow.keras.models import Sequential\n",
        "from tensorflow.keras.layers import Embedding, LSTM, Bidirectional, Dense, Dropout, SpatialDropout1D\n",
        "from tensorflow.keras.layers import GlobalMaxPool1D, MaxPooling1D, GlobalMaxPooling1D, Conv1D\n",
        "from sklearn.metrics import classification_report, confusion_matrix\n",
        "\n",
        "\n",
        "from tensorflow.keras.callbacks import EarlyStopping\n",
        "import fasttext\n",
        "\n",
        "from sklearn.model_selection import train_test_split\n",
        "from sklearn.preprocessing import LabelEncoder\n",
        "import pandas as pd\n",
        "import re\n",
        "import numpy as np\n",
        "\n",
        "import nltk\n",
        "from nltk.corpus import stopwords\n",
        "nltk.download('stopwords')\n",
        "import string\n",
        "\n",
        "from tqdm.notebook import tqdm\n",
        "tqdm.pandas()\n",
        "\n",
        "\n",
        "# Word Embedding\n",
        "from gensim.models import KeyedVectors\n"
      ]
    },
    {
      "cell_type": "markdown",
      "source": [
        "### Load Data"
      ],
      "metadata": {
        "id": "NIvkU8e2eSm3"
      },
      "id": "NIvkU8e2eSm3"
    },
    {
      "cell_type": "code",
      "source": [
        "# merge data\n",
        "data_small_df = pd.read_json('./data/embold_train.json').reset_index(drop=True)\n",
        "data_large_df = pd.read_json('./data/embold_train_extra.json').reset_index(drop=True)\n",
        "data_df = data_small_df.append(data_large_df)\n",
        "data_df['text'] = data_df['title']+' '+data_df['body']\n",
        "data_df['text_length'] = data_df['text'].apply(lambda text_input: len(text_input.split()))"
      ],
      "metadata": {
        "id": "yBYACIpBxCaa"
      },
      "id": "yBYACIpBxCaa",
      "execution_count": 4,
      "outputs": []
    },
    {
      "cell_type": "markdown",
      "source": [
        "### Preprocess"
      ],
      "metadata": {
        "id": "g3UJaMTV6B9F"
      },
      "id": "g3UJaMTV6B9F"
    },
    {
      "cell_type": "code",
      "source": [
        "stopwords_list = stopwords.words('english')\n",
        "\n",
        "def clean_text(text, lowercase=True, stop_words=True, links=True, numbers=True):\n",
        "    text = text.replace(\"\\\\r\", \"\")\n",
        "    if lowercase:\n",
        "        text = text.lower()\n",
        "    text = re.sub('\\[.*?\\]', '', text)\n",
        "    if links:\n",
        "        text = re.sub('https?://\\S+|www\\.\\S+', '', text)\n",
        "    text = re.sub('<.*?>+', '', text)\n",
        "    text = re.sub('[%s]' % re.escape(string.punctuation), '', text)\n",
        "    text = re.sub('\\n', '', text)\n",
        "    if numbers:\n",
        "       text = re.sub('\\w*\\d\\w*', '', text)\n",
        "    if stop_words:\n",
        "        text = \" \".join([word for word in text.split() if word not in stopwords_list])\n",
        "    return text"
      ],
      "metadata": {
        "id": "IGXA192_6FX0"
      },
      "id": "IGXA192_6FX0",
      "execution_count": 5,
      "outputs": []
    },
    {
      "cell_type": "code",
      "source": [
        "data_df['text_clean'] = data_df['text'].progress_apply(lambda text: clean_text(text))"
      ],
      "metadata": {
        "id": "qFrcOt1w9i8n",
        "colab": {
          "base_uri": "https://localhost:8080/",
          "height": 49,
          "referenced_widgets": [
            "34e9ce81a13845d1bda54934d2db89d9",
            "a03a52c37de04caca249aa7dcda32b04",
            "04cb7e851480455480efa048630cef76",
            "40524c32720540f09d1a5ffead3e29ed",
            "df26f916833d41ed8286b89c5f86b686",
            "b7f7fb0ab57b4a9ba495e5cfbfcd37cf",
            "25d056b32a234199a4833ae1868505d3",
            "56bca43e81e64ee3954776667d4a616f",
            "4253e500338e44fca1c008780a300d91",
            "e182312e39284151be23d455082ba8cb",
            "62ae2107b8c540ad9bb7e5b734228676"
          ]
        },
        "outputId": "2ee61a44-d088-42a5-a3b9-e91e1cac2229"
      },
      "id": "qFrcOt1w9i8n",
      "execution_count": 6,
      "outputs": [
        {
          "output_type": "display_data",
          "data": {
            "application/vnd.jupyter.widget-view+json": {
              "model_id": "34e9ce81a13845d1bda54934d2db89d9",
              "version_minor": 0,
              "version_major": 2
            },
            "text/plain": [
              "  0%|          | 0/450000 [00:00<?, ?it/s]"
            ]
          },
          "metadata": {}
        }
      ]
    },
    {
      "cell_type": "code",
      "source": [
        "label_encoder = LabelEncoder()\n",
        "\n",
        "X = data_df['text_clean'].values\n",
        "y = label_encoder.fit_transform(data_df['label'])\n",
        "\n",
        "X_train, X_test, y_train, y_test  = train_test_split(X, y, test_size=0.2, random_state=1)\n",
        "X_train, X_val, y_train, y_val = train_test_split(X_train, y_train, test_size=0.125, random_state=1) # 0.125 x 0.8 = 0.1\n"
      ],
      "metadata": {
        "id": "OtPg_moO-T3Y"
      },
      "id": "OtPg_moO-T3Y",
      "execution_count": 7,
      "outputs": []
    },
    {
      "cell_type": "markdown",
      "id": "d1796d3e-6920-44fd-96a0-892bb67ce303",
      "metadata": {
        "id": "d1796d3e-6920-44fd-96a0-892bb67ce303"
      },
      "source": [
        "## FastText Embedding"
      ]
    },
    {
      "cell_type": "markdown",
      "source": [
        "### Download Fasstext Model"
      ],
      "metadata": {
        "id": "S5mrfStCR2zA"
      },
      "id": "S5mrfStCR2zA"
    },
    {
      "cell_type": "code",
      "execution_count": null,
      "id": "8d9e7770-c460-44ec-b8b4-213befad7c44",
      "metadata": {
        "id": "8d9e7770-c460-44ec-b8b4-213befad7c44"
      },
      "outputs": [],
      "source": [
        "! wget https://www.dropbox.com/s/6aaucelizfx7xl6/en_vectors_v3.bin"
      ]
    },
    {
      "cell_type": "code",
      "source": [
        "EMBEDDING_LEN = 128 "
      ],
      "metadata": {
        "id": "MLdM-i-9FWpT"
      },
      "id": "MLdM-i-9FWpT",
      "execution_count": 9,
      "outputs": []
    },
    {
      "cell_type": "markdown",
      "source": [
        "### Load FastText Model"
      ],
      "metadata": {
        "id": "GXOumsIWR9YX"
      },
      "id": "GXOumsIWR9YX"
    },
    {
      "cell_type": "code",
      "execution_count": 10,
      "id": "7d0d02a1-504f-4da8-9254-f31b7386cd32",
      "metadata": {
        "id": "7d0d02a1-504f-4da8-9254-f31b7386cd32",
        "colab": {
          "base_uri": "https://localhost:8080/"
        },
        "outputId": "12675fbe-3ccb-4d32-954b-91d4ad83279b"
      },
      "outputs": [
        {
          "output_type": "stream",
          "name": "stderr",
          "text": [
            "Warning : `load_model` does not return WordVectorModel or SupervisedModel any more, but a `FastText` object which is very similar.\n"
          ]
        }
      ],
      "source": [
        "model_skipgram = fasttext.load_model('en_vectors_v3.bin')"
      ]
    },
    {
      "cell_type": "code",
      "source": [
        "# Fit Keras Tokenizer on X_train\n",
        "\n",
        "tokenizer = tf.keras.preprocessing.text.Tokenizer(num_words=3000)\n",
        "tokenizer.fit_on_texts(X_train)\n",
        "\n",
        "vocab_size = len(tokenizer.word_index) + 1\n",
        "print('Vocabulary Size : {}'.format(vocab_size))"
      ],
      "metadata": {
        "id": "_WQEhOzDS8Yw",
        "colab": {
          "base_uri": "https://localhost:8080/"
        },
        "outputId": "4729c604-5dc8-4416-a0a0-b129149d37ba"
      },
      "id": "_WQEhOzDS8Yw",
      "execution_count": 11,
      "outputs": [
        {
          "output_type": "stream",
          "name": "stdout",
          "text": [
            "Vocabulary Size : 699780\n"
          ]
        }
      ]
    },
    {
      "cell_type": "code",
      "source": [
        "encoded_comments = tokenizer.texts_to_sequences(X_train)\n",
        "\n",
        "# example of encoded comments\n",
        "print(\"Comment : {}\".format(X_train[1]))\n",
        "print(\"Corresponding Encoding : {}\".format(encoded_comments[1]))"
      ],
      "metadata": {
        "id": "Bs7z2ltRTNCA",
        "colab": {
          "base_uri": "https://localhost:8080/"
        },
        "outputId": "6b11c730-0da0-4600-b3eb-487eaf639c37"
      },
      "id": "Bs7z2ltRTNCA",
      "execution_count": 12,
      "outputs": [
        {
          "output_type": "stream",
          "name": "stdout",
          "text": [
            "Comment : upgrade problem undefined index pkcmspage installation pkcmspage error upgrade mysql php plesk steps reproduce composer require magentoproductcommunityedition noupdate composer update php binmagento setupupgrade expected result upgrade done actual result ssh module magentocustomer module magentobundleimportexport module magentocacheinvalidate module magentoindexer module magentocms upgrading data exception notice undefined index pkcmspage varwwwvhostspepehttpdocs vendormagentoframeworkentitymanagerentitymetadataphp line open url browser error processing request exception printing disabled default security reasons varraport please upgrade database run binmagento setupupgrade magento root directory index status ok ideas edit web setup issue readiness check ok log system upgrade status update application running module magentotheme upgrading data module magentocustomer upgrading data module magentobundleimportexport module magentocacheinvalidate module magentoindexer module magentocms upgrading data utc error occurred executing job setupupgrade command setupupgrade could complete setupupgrade command setupupgrade successfully notice undefined index pkcmspage varwwwvhostspepehttpdocsvendormagentoframeworkentitymanagerentitymetadataphp line utc job setupstaticregenerate started\n",
            "Corresponding Encoding : [607, 52, 378, 298, 612, 2, 607, 975, 381, 61, 54, 2282, 335, 2282, 59, 381, 36, 92, 607, 208, 116, 92, 1209, 120, 120, 120, 120, 120, 1885, 19, 122, 741, 378, 298, 7, 74, 127, 205, 2, 814, 38, 122, 2325, 659, 46, 815, 1734, 82, 607, 209, 32, 2354, 362, 188, 298, 167, 370, 1143, 246, 311, 379, 12, 84, 370, 117, 79, 607, 167, 59, 200, 73, 120, 1885, 19, 120, 1885, 19, 120, 120, 120, 120, 1885, 19, 869, 2, 962, 1160, 486, 76, 26, 480, 76, 752, 741, 378, 298, 7, 869, 486, 497]\n"
          ]
        }
      ]
    },
    {
      "cell_type": "code",
      "execution_count": 13,
      "id": "48de0848-6da0-4c32-b156-d2bdf08a959d",
      "metadata": {
        "id": "48de0848-6da0-4c32-b156-d2bdf08a959d",
        "colab": {
          "base_uri": "https://localhost:8080/"
        },
        "outputId": "9810cac9-5702-4538-ee8f-5bb1dff1a1dc"
      },
      "outputs": [
        {
          "output_type": "stream",
          "name": "stdout",
          "text": [
            "Padding Shape: (315000, 499)\n"
          ]
        }
      ],
      "source": [
        "# padding\n",
        "SENT_MAX_LEN = max([len(sent) for sent in encoded_comments])\n",
        "padded_sequence = pad_sequences(encoded_comments, maxlen=SENT_MAX_LEN, padding='post')\n",
        "print('Padding Shape: {}'.format(padded_sequence.shape))"
      ]
    },
    {
      "cell_type": "code",
      "execution_count": 14,
      "id": "114a59a6-c98a-4659-9eff-ff976fb4b8e6",
      "metadata": {
        "id": "114a59a6-c98a-4659-9eff-ff976fb4b8e6",
        "colab": {
          "base_uri": "https://localhost:8080/"
        },
        "outputId": "d22b05e3-4956-434b-ef39-aaf05c4b1bca"
      },
      "outputs": [
        {
          "output_type": "stream",
          "name": "stdout",
          "text": [
            "Embedding Matrix Shape is: (699780, 128)\n"
          ]
        }
      ],
      "source": [
        "# initial embedding matrix\n",
        "embedding_matrix = np.zeros((vocab_size, EMBEDDING_LEN))\n",
        "\n",
        "for word, i in tokenizer.word_index.items():\n",
        "  embedding_vector = model_skipgram.get_word_vector(word)\n",
        "  # words that cannot be found will be set to 0\n",
        "  if embedding_vector is not None:\n",
        "    embedding_matrix[i] = embedding_vector\n",
        "\n",
        "print(f\"Embedding Matrix Shape is: {embedding_matrix.shape}\")"
      ]
    },
    {
      "cell_type": "code",
      "execution_count": 15,
      "id": "81b4d562-56d1-4a94-81d3-7d5899399d50",
      "metadata": {
        "id": "81b4d562-56d1-4a94-81d3-7d5899399d50"
      },
      "outputs": [],
      "source": [
        "# Same procedure with a Unique Tokenizer on Evaluation data\n",
        "\n",
        "tokenizer.texts_to_matrix(X_val)\n",
        "eval_encoded_comments = tokenizer.texts_to_sequences(X_val)\n",
        "eval_padded_sequence = pad_sequences(eval_encoded_comments, maxlen=SENT_MAX_LEN, padding='post')"
      ]
    },
    {
      "cell_type": "code",
      "execution_count": 16,
      "id": "ae83164d-2b20-4b8b-be62-8317a0c3b29a",
      "metadata": {
        "id": "ae83164d-2b20-4b8b-be62-8317a0c3b29a"
      },
      "outputs": [],
      "source": [
        "# Same procedure with a Unique Tokenizer on Test data\n",
        "\n",
        "tokenizer.texts_to_matrix(X_test)\n",
        "test_encoded_comments = tokenizer.texts_to_sequences(X_test)\n",
        "test_padded_sequence = pad_sequences(test_encoded_comments, maxlen=SENT_MAX_LEN, padding='post')"
      ]
    },
    {
      "cell_type": "code",
      "source": [
        "### One Hot Encoding\n",
        "y_train_hot = np.eye(3)[y_train] # One-Hot\n",
        "y_val_hot =  np.eye(3)[y_val] # One-Hot\n",
        "y_test_hot = np.eye(3)[y_test] # One-Hot"
      ],
      "metadata": {
        "id": "hH-wi17T4Rpb"
      },
      "id": "hH-wi17T4Rpb",
      "execution_count": 17,
      "outputs": []
    },
    {
      "cell_type": "code",
      "source": [
        "import keras.backend as K\n",
        "\n",
        "def f1_score(y_true, y_pred):\n",
        "\n",
        "    # Count positive samples.\n",
        "    c1 = K.sum(K.round(K.clip(y_true * y_pred, 0, 1)))\n",
        "    c2 = K.sum(K.round(K.clip(y_pred, 0, 1)))\n",
        "    c3 = K.sum(K.round(K.clip(y_true, 0, 1)))\n",
        "\n",
        "    # If there are no true samples, fix the F1 score at 0.\n",
        "    if c3 == 0:\n",
        "        return 0\n",
        "\n",
        "    # How many selected items are relevant?\n",
        "    precision = c1 / c2\n",
        "\n",
        "    # How many relevant items are selected?\n",
        "    recall = c1 / c3\n",
        "\n",
        "    # Calculate f1_score\n",
        "    f1_score = 2 * (precision * recall) / (precision + recall)\n",
        "    return f1_score\n"
      ],
      "metadata": {
        "id": "jz1yqGR0uKOz"
      },
      "id": "jz1yqGR0uKOz",
      "execution_count": 18,
      "outputs": []
    },
    {
      "cell_type": "markdown",
      "source": [
        "## CNN Model Architecture"
      ],
      "metadata": {
        "id": "C_ni4QYf_xNk"
      },
      "id": "C_ni4QYf_xNk"
    },
    {
      "cell_type": "code",
      "source": [
        "## CNN Constants\n",
        "KERNEL_SIZE = 3\n",
        "FILTERS = 256"
      ],
      "metadata": {
        "id": "MVk-i5iE9ayI"
      },
      "id": "MVk-i5iE9ayI",
      "execution_count": 19,
      "outputs": []
    },
    {
      "cell_type": "code",
      "source": [
        "model_2 = Sequential()\n",
        "model_2.add(Embedding(vocab_size, embedding_matrix.shape[1], weights=[embedding_matrix], trainable=True))\n",
        "model_2.add(Conv1D(filters=FILTERS, kernel_size=KERNEL_SIZE, activation='relu'))\n",
        "model_2.add(GlobalMaxPooling1D())\n",
        "model_2.add(Dense(FILTERS, activation='relu'))\n",
        "model_2.add(Dense(3, activation='sigmoid'))\n",
        "model_2.compile(loss='categorical_crossentropy', optimizer='adam', metrics=['accuracy'])\n",
        "model_2.summary()"
      ],
      "metadata": {
        "id": "lfs4V5H37reB",
        "colab": {
          "base_uri": "https://localhost:8080/"
        },
        "outputId": "e8005421-9fe8-414d-8da8-e4b52e322ab7"
      },
      "id": "lfs4V5H37reB",
      "execution_count": 20,
      "outputs": [
        {
          "output_type": "stream",
          "name": "stdout",
          "text": [
            "Model: \"sequential\"\n",
            "_________________________________________________________________\n",
            " Layer (type)                Output Shape              Param #   \n",
            "=================================================================\n",
            " embedding (Embedding)       (None, None, 128)         89571840  \n",
            "                                                                 \n",
            " conv1d (Conv1D)             (None, None, 256)         98560     \n",
            "                                                                 \n",
            " global_max_pooling1d (Globa  (None, 256)              0         \n",
            " lMaxPooling1D)                                                  \n",
            "                                                                 \n",
            " dense (Dense)               (None, 256)               65792     \n",
            "                                                                 \n",
            " dense_1 (Dense)             (None, 3)                 771       \n",
            "                                                                 \n",
            "=================================================================\n",
            "Total params: 89,736,963\n",
            "Trainable params: 89,736,963\n",
            "Non-trainable params: 0\n",
            "_________________________________________________________________\n"
          ]
        }
      ]
    },
    {
      "cell_type": "markdown",
      "source": [
        "### Fit CNN Model\n",
        "You can run the cell bellow as much as you want. keep track on validation accuracy and also change the `epochs`. "
      ],
      "metadata": {
        "id": "akaz6n0t_bTS"
      },
      "id": "akaz6n0t_bTS"
    },
    {
      "cell_type": "code",
      "source": [
        "model_2.fit(\n",
        "    padded_sequence, \n",
        "    y_train_hot, \n",
        "    batch_size=32, \n",
        "    epochs=1, \n",
        "    validation_data=(eval_padded_sequence, y_val_hot)\n",
        "    )"
      ],
      "metadata": {
        "id": "dbVoK7r29R1S",
        "colab": {
          "base_uri": "https://localhost:8080/"
        },
        "outputId": "748885ad-7e65-47b8-aba4-2f53ef1bd968"
      },
      "id": "dbVoK7r29R1S",
      "execution_count": 21,
      "outputs": [
        {
          "output_type": "stream",
          "name": "stdout",
          "text": [
            "9844/9844 [==============================] - 876s 88ms/step - loss: 0.5892 - accuracy: 0.7683 - val_loss: 0.5601 - val_accuracy: 0.7800\n"
          ]
        },
        {
          "output_type": "execute_result",
          "data": {
            "text/plain": [
              "<keras.callbacks.History at 0x7f49c065ed50>"
            ]
          },
          "metadata": {},
          "execution_count": 21
        }
      ]
    },
    {
      "cell_type": "code",
      "source": [
        "loss_2, acc_2 = model_2.evaluate(test_padded_sequence, y_test_hot, verbose=0)\n",
        "print('Test Accuracy: %f' % (acc_2*100))"
      ],
      "metadata": {
        "id": "S0E9HNy_-NbD",
        "colab": {
          "base_uri": "https://localhost:8080/"
        },
        "outputId": "f5553280-f282-4c6e-8faa-3e141a221839"
      },
      "id": "S0E9HNy_-NbD",
      "execution_count": 22,
      "outputs": [
        {
          "output_type": "stream",
          "name": "stdout",
          "text": [
            "Test Accuracy: 77.656668\n"
          ]
        }
      ]
    },
    {
      "cell_type": "code",
      "source": [
        "y_pred_2 = model_2.predict(test_padded_sequence).argmax(axis=1)\n",
        "print(confusion_matrix(y_true=y_test, y_pred=y_pred_2))\n",
        "print(classification_report(y_true=y_test, y_pred=y_pred_2))"
      ],
      "metadata": {
        "id": "z9sTL8h4Ae6q",
        "colab": {
          "base_uri": "https://localhost:8080/"
        },
        "outputId": "2863b1b8-b619-4c02-ae3c-ba43f217be9e"
      },
      "id": "z9sTL8h4Ae6q",
      "execution_count": 23,
      "outputs": [
        {
          "output_type": "stream",
          "name": "stdout",
          "text": [
            "[[32029  7067  1069]\n",
            " [ 5147 35366   816]\n",
            " [ 2498  3512  2496]]\n",
            "              precision    recall  f1-score   support\n",
            "\n",
            "           0       0.81      0.80      0.80     40165\n",
            "           1       0.77      0.86      0.81     41329\n",
            "           2       0.57      0.29      0.39      8506\n",
            "\n",
            "    accuracy                           0.78     90000\n",
            "   macro avg       0.72      0.65      0.67     90000\n",
            "weighted avg       0.77      0.78      0.77     90000\n",
            "\n"
          ]
        }
      ]
    },
    {
      "cell_type": "markdown",
      "source": [
        "## LSTM Model Architecture"
      ],
      "metadata": {
        "id": "AOpYujxDrSKs"
      },
      "id": "AOpYujxDrSKs"
    },
    {
      "cell_type": "code",
      "source": [
        "# LSTM constants\n",
        "LSTM_UNITS = 32"
      ],
      "metadata": {
        "id": "DcDdZ455rSKt"
      },
      "execution_count": 24,
      "outputs": [],
      "id": "DcDdZ455rSKt"
    },
    {
      "cell_type": "code",
      "source": [
        "model_1 = Sequential()\n",
        "model_1.add(Embedding(vocab_size, EMBEDDING_LEN, input_length=SENT_MAX_LEN, weights=[embedding_matrix], trainable=True))\n",
        "model_1.add(Bidirectional(LSTM(EMBEDDING_LEN, return_sequences=True, input_shape=(None, 1))))\n",
        "model_1.add(Dropout(0.2))\n",
        "model_1.add(Bidirectional(LSTM(LSTM_UNITS)))\n",
        "model_1.add(Dropout(0.2))\n",
        "model_1.add(Dense(EMBEDDING_LEN, activation='relu'))\n",
        "model_1.add(Dropout(0.1))\n",
        "model_1.add(Dense(3, activation='sigmoid'))\n",
        "model_1.compile(loss='categorical_crossentropy', optimizer='adam', metrics=['accuracy'])\n",
        "model_1.summary()"
      ],
      "metadata": {
        "colab": {
          "base_uri": "https://localhost:8080/"
        },
        "outputId": "c41222af-53fd-4131-cb49-2c4fc8908b93",
        "id": "u39-0z__rSKt"
      },
      "execution_count": 25,
      "outputs": [
        {
          "output_type": "stream",
          "name": "stdout",
          "text": [
            "Model: \"sequential_1\"\n",
            "_________________________________________________________________\n",
            " Layer (type)                Output Shape              Param #   \n",
            "=================================================================\n",
            " embedding_1 (Embedding)     (None, 499, 128)          89571840  \n",
            "                                                                 \n",
            " bidirectional (Bidirectiona  (None, 499, 256)         263168    \n",
            " l)                                                              \n",
            "                                                                 \n",
            " dropout (Dropout)           (None, 499, 256)          0         \n",
            "                                                                 \n",
            " bidirectional_1 (Bidirectio  (None, 64)               73984     \n",
            " nal)                                                            \n",
            "                                                                 \n",
            " dropout_1 (Dropout)         (None, 64)                0         \n",
            "                                                                 \n",
            " dense_2 (Dense)             (None, 128)               8320      \n",
            "                                                                 \n",
            " dropout_2 (Dropout)         (None, 128)               0         \n",
            "                                                                 \n",
            " dense_3 (Dense)             (None, 3)                 387       \n",
            "                                                                 \n",
            "=================================================================\n",
            "Total params: 89,917,699\n",
            "Trainable params: 89,917,699\n",
            "Non-trainable params: 0\n",
            "_________________________________________________________________\n"
          ]
        }
      ],
      "id": "u39-0z__rSKt"
    },
    {
      "cell_type": "markdown",
      "source": [
        "### Fit LSTM Model\n",
        "You can run the cell bellow as much as you want. keep track on validation accuracy and also change the `epochs`. "
      ],
      "metadata": {
        "id": "fr13nB4rrSKu"
      },
      "id": "fr13nB4rrSKu"
    },
    {
      "cell_type": "code",
      "execution_count": 26,
      "metadata": {
        "colab": {
          "base_uri": "https://localhost:8080/"
        },
        "outputId": "6bb388f8-081f-4960-c4bf-e1f282072536",
        "id": "948kJN6ArSKu"
      },
      "outputs": [
        {
          "output_type": "stream",
          "name": "stdout",
          "text": [
            "9844/9844 [==============================] - 3990s 405ms/step - loss: 0.5798 - accuracy: 0.7753 - val_loss: 0.5469 - val_accuracy: 0.7883\n"
          ]
        },
        {
          "output_type": "execute_result",
          "data": {
            "text/plain": [
              "<keras.callbacks.History at 0x7f494e331790>"
            ]
          },
          "metadata": {},
          "execution_count": 26
        }
      ],
      "source": [
        "model_1.fit(\n",
        "    padded_sequence, \n",
        "    y_train_hot, \n",
        "    batch_size=32, \n",
        "    epochs=1, \n",
        "    validation_data=(eval_padded_sequence, y_val_hot)\n",
        "    )"
      ],
      "id": "948kJN6ArSKu"
    },
    {
      "cell_type": "code",
      "source": [
        "loss_1, acc_1 = model_1.evaluate(test_padded_sequence, y_test_hot, verbose=0)\n",
        "print(f'Test Accuracy: {acc_1}')"
      ],
      "metadata": {
        "colab": {
          "base_uri": "https://localhost:8080/"
        },
        "id": "wNqz87mdrSKu",
        "outputId": "ddfd1bd4-7611-4869-ddd5-e8347d93c2bb"
      },
      "execution_count": 27,
      "outputs": [
        {
          "output_type": "stream",
          "name": "stdout",
          "text": [
            "Test Accuracy: 0.785955548286438\n"
          ]
        }
      ],
      "id": "wNqz87mdrSKu"
    },
    {
      "cell_type": "code",
      "source": [
        "y_pred_1 = model_1.predict(test_padded_sequence).argmax(axis=1)\n",
        "print(confusion_matrix(y_true=y_test, y_pred=y_pred_1))\n",
        "print(classification_report(y_true=y_test, y_pred=y_pred_1))"
      ],
      "metadata": {
        "colab": {
          "base_uri": "https://localhost:8080/"
        },
        "id": "sd-VhW2mrSKu",
        "outputId": "fb5febe9-a570-4812-ef0f-e8ef826195f2"
      },
      "execution_count": 28,
      "outputs": [
        {
          "output_type": "stream",
          "name": "stdout",
          "text": [
            "[[32796  6562   807]\n",
            " [ 4964 35099  1266]\n",
            " [ 2826  2839  2841]]\n",
            "              precision    recall  f1-score   support\n",
            "\n",
            "           0       0.81      0.82      0.81     40165\n",
            "           1       0.79      0.85      0.82     41329\n",
            "           2       0.58      0.33      0.42      8506\n",
            "\n",
            "    accuracy                           0.79     90000\n",
            "   macro avg       0.72      0.67      0.68     90000\n",
            "weighted avg       0.78      0.79      0.78     90000\n",
            "\n"
          ]
        }
      ],
      "id": "sd-VhW2mrSKu"
    }
  ],
  "metadata": {
    "kernelspec": {
      "display_name": "Python 3 (ipykernel)",
      "language": "python",
      "name": "python3"
    },
    "language_info": {
      "codemirror_mode": {
        "name": "ipython",
        "version": 3
      },
      "file_extension": ".py",
      "mimetype": "text/x-python",
      "name": "python",
      "nbconvert_exporter": "python",
      "pygments_lexer": "ipython3",
      "version": "3.8.11"
    },
    "colab": {
      "name": "LSTM_CNN.ipynb",
      "provenance": [],
      "collapsed_sections": [],
      "include_colab_link": true
    },
    "accelerator": "GPU",
    "widgets": {
      "application/vnd.jupyter.widget-state+json": {
        "34e9ce81a13845d1bda54934d2db89d9": {
          "model_module": "@jupyter-widgets/controls",
          "model_name": "HBoxModel",
          "model_module_version": "1.5.0",
          "state": {
            "_view_name": "HBoxView",
            "_dom_classes": [],
            "_model_name": "HBoxModel",
            "_view_module": "@jupyter-widgets/controls",
            "_model_module_version": "1.5.0",
            "_view_count": null,
            "_view_module_version": "1.5.0",
            "box_style": "",
            "layout": "IPY_MODEL_a03a52c37de04caca249aa7dcda32b04",
            "_model_module": "@jupyter-widgets/controls",
            "children": [
              "IPY_MODEL_04cb7e851480455480efa048630cef76",
              "IPY_MODEL_40524c32720540f09d1a5ffead3e29ed",
              "IPY_MODEL_df26f916833d41ed8286b89c5f86b686"
            ]
          }
        },
        "a03a52c37de04caca249aa7dcda32b04": {
          "model_module": "@jupyter-widgets/base",
          "model_name": "LayoutModel",
          "model_module_version": "1.2.0",
          "state": {
            "_view_name": "LayoutView",
            "grid_template_rows": null,
            "right": null,
            "justify_content": null,
            "_view_module": "@jupyter-widgets/base",
            "overflow": null,
            "_model_module_version": "1.2.0",
            "_view_count": null,
            "flex_flow": null,
            "width": null,
            "min_width": null,
            "border": null,
            "align_items": null,
            "bottom": null,
            "_model_module": "@jupyter-widgets/base",
            "top": null,
            "grid_column": null,
            "overflow_y": null,
            "overflow_x": null,
            "grid_auto_flow": null,
            "grid_area": null,
            "grid_template_columns": null,
            "flex": null,
            "_model_name": "LayoutModel",
            "justify_items": null,
            "grid_row": null,
            "max_height": null,
            "align_content": null,
            "visibility": null,
            "align_self": null,
            "height": null,
            "min_height": null,
            "padding": null,
            "grid_auto_rows": null,
            "grid_gap": null,
            "max_width": null,
            "order": null,
            "_view_module_version": "1.2.0",
            "grid_template_areas": null,
            "object_position": null,
            "object_fit": null,
            "grid_auto_columns": null,
            "margin": null,
            "display": null,
            "left": null
          }
        },
        "04cb7e851480455480efa048630cef76": {
          "model_module": "@jupyter-widgets/controls",
          "model_name": "HTMLModel",
          "model_module_version": "1.5.0",
          "state": {
            "_view_name": "HTMLView",
            "style": "IPY_MODEL_b7f7fb0ab57b4a9ba495e5cfbfcd37cf",
            "_dom_classes": [],
            "description": "",
            "_model_name": "HTMLModel",
            "placeholder": "​",
            "_view_module": "@jupyter-widgets/controls",
            "_model_module_version": "1.5.0",
            "value": "100%",
            "_view_count": null,
            "_view_module_version": "1.5.0",
            "description_tooltip": null,
            "_model_module": "@jupyter-widgets/controls",
            "layout": "IPY_MODEL_25d056b32a234199a4833ae1868505d3"
          }
        },
        "40524c32720540f09d1a5ffead3e29ed": {
          "model_module": "@jupyter-widgets/controls",
          "model_name": "FloatProgressModel",
          "model_module_version": "1.5.0",
          "state": {
            "_view_name": "ProgressView",
            "style": "IPY_MODEL_56bca43e81e64ee3954776667d4a616f",
            "_dom_classes": [],
            "description": "",
            "_model_name": "FloatProgressModel",
            "bar_style": "success",
            "max": 450000,
            "_view_module": "@jupyter-widgets/controls",
            "_model_module_version": "1.5.0",
            "value": 450000,
            "_view_count": null,
            "_view_module_version": "1.5.0",
            "orientation": "horizontal",
            "min": 0,
            "description_tooltip": null,
            "_model_module": "@jupyter-widgets/controls",
            "layout": "IPY_MODEL_4253e500338e44fca1c008780a300d91"
          }
        },
        "df26f916833d41ed8286b89c5f86b686": {
          "model_module": "@jupyter-widgets/controls",
          "model_name": "HTMLModel",
          "model_module_version": "1.5.0",
          "state": {
            "_view_name": "HTMLView",
            "style": "IPY_MODEL_e182312e39284151be23d455082ba8cb",
            "_dom_classes": [],
            "description": "",
            "_model_name": "HTMLModel",
            "placeholder": "​",
            "_view_module": "@jupyter-widgets/controls",
            "_model_module_version": "1.5.0",
            "value": " 450000/450000 [02:20&lt;00:00, 3837.80it/s]",
            "_view_count": null,
            "_view_module_version": "1.5.0",
            "description_tooltip": null,
            "_model_module": "@jupyter-widgets/controls",
            "layout": "IPY_MODEL_62ae2107b8c540ad9bb7e5b734228676"
          }
        },
        "b7f7fb0ab57b4a9ba495e5cfbfcd37cf": {
          "model_module": "@jupyter-widgets/controls",
          "model_name": "DescriptionStyleModel",
          "model_module_version": "1.5.0",
          "state": {
            "_view_name": "StyleView",
            "_model_name": "DescriptionStyleModel",
            "description_width": "",
            "_view_module": "@jupyter-widgets/base",
            "_model_module_version": "1.5.0",
            "_view_count": null,
            "_view_module_version": "1.2.0",
            "_model_module": "@jupyter-widgets/controls"
          }
        },
        "25d056b32a234199a4833ae1868505d3": {
          "model_module": "@jupyter-widgets/base",
          "model_name": "LayoutModel",
          "model_module_version": "1.2.0",
          "state": {
            "_view_name": "LayoutView",
            "grid_template_rows": null,
            "right": null,
            "justify_content": null,
            "_view_module": "@jupyter-widgets/base",
            "overflow": null,
            "_model_module_version": "1.2.0",
            "_view_count": null,
            "flex_flow": null,
            "width": null,
            "min_width": null,
            "border": null,
            "align_items": null,
            "bottom": null,
            "_model_module": "@jupyter-widgets/base",
            "top": null,
            "grid_column": null,
            "overflow_y": null,
            "overflow_x": null,
            "grid_auto_flow": null,
            "grid_area": null,
            "grid_template_columns": null,
            "flex": null,
            "_model_name": "LayoutModel",
            "justify_items": null,
            "grid_row": null,
            "max_height": null,
            "align_content": null,
            "visibility": null,
            "align_self": null,
            "height": null,
            "min_height": null,
            "padding": null,
            "grid_auto_rows": null,
            "grid_gap": null,
            "max_width": null,
            "order": null,
            "_view_module_version": "1.2.0",
            "grid_template_areas": null,
            "object_position": null,
            "object_fit": null,
            "grid_auto_columns": null,
            "margin": null,
            "display": null,
            "left": null
          }
        },
        "56bca43e81e64ee3954776667d4a616f": {
          "model_module": "@jupyter-widgets/controls",
          "model_name": "ProgressStyleModel",
          "model_module_version": "1.5.0",
          "state": {
            "_view_name": "StyleView",
            "_model_name": "ProgressStyleModel",
            "description_width": "",
            "_view_module": "@jupyter-widgets/base",
            "_model_module_version": "1.5.0",
            "_view_count": null,
            "_view_module_version": "1.2.0",
            "bar_color": null,
            "_model_module": "@jupyter-widgets/controls"
          }
        },
        "4253e500338e44fca1c008780a300d91": {
          "model_module": "@jupyter-widgets/base",
          "model_name": "LayoutModel",
          "model_module_version": "1.2.0",
          "state": {
            "_view_name": "LayoutView",
            "grid_template_rows": null,
            "right": null,
            "justify_content": null,
            "_view_module": "@jupyter-widgets/base",
            "overflow": null,
            "_model_module_version": "1.2.0",
            "_view_count": null,
            "flex_flow": null,
            "width": null,
            "min_width": null,
            "border": null,
            "align_items": null,
            "bottom": null,
            "_model_module": "@jupyter-widgets/base",
            "top": null,
            "grid_column": null,
            "overflow_y": null,
            "overflow_x": null,
            "grid_auto_flow": null,
            "grid_area": null,
            "grid_template_columns": null,
            "flex": null,
            "_model_name": "LayoutModel",
            "justify_items": null,
            "grid_row": null,
            "max_height": null,
            "align_content": null,
            "visibility": null,
            "align_self": null,
            "height": null,
            "min_height": null,
            "padding": null,
            "grid_auto_rows": null,
            "grid_gap": null,
            "max_width": null,
            "order": null,
            "_view_module_version": "1.2.0",
            "grid_template_areas": null,
            "object_position": null,
            "object_fit": null,
            "grid_auto_columns": null,
            "margin": null,
            "display": null,
            "left": null
          }
        },
        "e182312e39284151be23d455082ba8cb": {
          "model_module": "@jupyter-widgets/controls",
          "model_name": "DescriptionStyleModel",
          "model_module_version": "1.5.0",
          "state": {
            "_view_name": "StyleView",
            "_model_name": "DescriptionStyleModel",
            "description_width": "",
            "_view_module": "@jupyter-widgets/base",
            "_model_module_version": "1.5.0",
            "_view_count": null,
            "_view_module_version": "1.2.0",
            "_model_module": "@jupyter-widgets/controls"
          }
        },
        "62ae2107b8c540ad9bb7e5b734228676": {
          "model_module": "@jupyter-widgets/base",
          "model_name": "LayoutModel",
          "model_module_version": "1.2.0",
          "state": {
            "_view_name": "LayoutView",
            "grid_template_rows": null,
            "right": null,
            "justify_content": null,
            "_view_module": "@jupyter-widgets/base",
            "overflow": null,
            "_model_module_version": "1.2.0",
            "_view_count": null,
            "flex_flow": null,
            "width": null,
            "min_width": null,
            "border": null,
            "align_items": null,
            "bottom": null,
            "_model_module": "@jupyter-widgets/base",
            "top": null,
            "grid_column": null,
            "overflow_y": null,
            "overflow_x": null,
            "grid_auto_flow": null,
            "grid_area": null,
            "grid_template_columns": null,
            "flex": null,
            "_model_name": "LayoutModel",
            "justify_items": null,
            "grid_row": null,
            "max_height": null,
            "align_content": null,
            "visibility": null,
            "align_self": null,
            "height": null,
            "min_height": null,
            "padding": null,
            "grid_auto_rows": null,
            "grid_gap": null,
            "max_width": null,
            "order": null,
            "_view_module_version": "1.2.0",
            "grid_template_areas": null,
            "object_position": null,
            "object_fit": null,
            "grid_auto_columns": null,
            "margin": null,
            "display": null,
            "left": null
          }
        }
      }
    }
  },
  "nbformat": 4,
  "nbformat_minor": 5
}